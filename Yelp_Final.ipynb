{
 "cells": [
  {
   "cell_type": "markdown",
   "metadata": {},
   "source": [
    "# DC Exurb Restaurant Analysis Using Yelp\n",
    "\n",
    "**Authors:** Jaclyn Dwyer and Gary Schwaeber\n",
    "***"
   ]
  },
  {
   "cell_type": "markdown",
   "metadata": {},
   "source": [
    "![example](Images/Outdoor_Pic.jpeg)"
   ]
  },
  {
   "cell_type": "markdown",
   "metadata": {},
   "source": [
    "## Overview\n",
    "\n",
    "The project explores where to open a new restaurant between the DC exurbs of Southern Maryland and Northern Virginia. Yelp data analyzes the success and popularity of different categories of restaurants within these areas. Results show the potential to open a prosperous Dim Sum Cantonese restaurant within Northern Virginia.\n",
    "***"
   ]
  },
  {
   "cell_type": "markdown",
   "metadata": {},
   "source": [
    "## Business Problem \n",
    "\n",
    "Yelp data is used to determine where to put a new restuarant between the MD and VA exurbs of DC as well as what type of restaurant. Analyzing the amount, populatrity, and success of existing restaurants iss used to decide the area and category of restaurant that could be successful. The goal is to find some category of restaurant where there is an untapped or underdeveloped market.\n",
    "\n",
    "***"
   ]
  },
  {
   "cell_type": "markdown",
   "metadata": {},
   "source": [
    "## Data Understanding\n",
    "\n",
    "Yelp users contribute ratings and reviews based on their experiences at a given business. Data is sourced from a Yelp API call for each restaurant within the areas being investigated using longitude, latitude, and radius parameters. Category 'restuarants' and price '2,3,4' ($) parameters are used to ensure only sit down restaurants are in the data and exclude fast food and quick serve restaurants. The business search data provides information about the cateogry, rating, price, review count, and address of each restaurant. \n",
    " - Review count measures popularity of a business.\n",
    " - Rating measures public opinion of a business. \n",
    " - The review data is used to anecdotally support the findings from the business search data.\n",
    "\n",
    "\n"
   ]
  },
  {
   "cell_type": "code",
   "execution_count": 2,
   "metadata": {},
   "outputs": [],
   "source": [
    "# Import standard packages\n",
    "import pandas as pd\n",
    "import numpy as np\n",
    "import matplotlib.pyplot as plt\n",
    "import seaborn as sns\n",
    "\n",
    "%matplotlib inline"
   ]
  },
  {
   "cell_type": "code",
   "execution_count": 21,
   "metadata": {},
   "outputs": [
    {
     "data": {
      "text/html": [
       "<div>\n",
       "<style scoped>\n",
       "    .dataframe tbody tr th:only-of-type {\n",
       "        vertical-align: middle;\n",
       "    }\n",
       "\n",
       "    .dataframe tbody tr th {\n",
       "        vertical-align: top;\n",
       "    }\n",
       "\n",
       "    .dataframe thead th {\n",
       "        text-align: right;\n",
       "    }\n",
       "</style>\n",
       "<table border=\"1\" class=\"dataframe\">\n",
       "  <thead>\n",
       "    <tr style=\"text-align: right;\">\n",
       "      <th></th>\n",
       "      <th>id</th>\n",
       "      <th>Name</th>\n",
       "      <th>Review_Count</th>\n",
       "      <th>Categories</th>\n",
       "      <th>Rating</th>\n",
       "      <th>Price</th>\n",
       "      <th>Address</th>\n",
       "      <th>state</th>\n",
       "      <th>Rating_1</th>\n",
       "      <th>Review_1</th>\n",
       "      <th>Time_Created_1</th>\n",
       "      <th>Rating_2</th>\n",
       "      <th>Review_2</th>\n",
       "      <th>Time_Created_2</th>\n",
       "      <th>Rating_3</th>\n",
       "      <th>Review_3</th>\n",
       "      <th>Time_Created_3</th>\n",
       "    </tr>\n",
       "  </thead>\n",
       "  <tbody>\n",
       "    <tr>\n",
       "      <th>0</th>\n",
       "      <td>smTFfg1g_BjsUkorL_ZxLQ</td>\n",
       "      <td>Kuya Ja's Lechon Belly</td>\n",
       "      <td>593</td>\n",
       "      <td>[Filipino]</td>\n",
       "      <td>4.5</td>\n",
       "      <td>$$</td>\n",
       "      <td>['5268-H Nicholson Ln', 'Rockville, MD 20895']</td>\n",
       "      <td>MD</td>\n",
       "      <td>5.0</td>\n",
       "      <td>Yup I went to heaven and back. First time here...</td>\n",
       "      <td>2020-12-19 09:33:31</td>\n",
       "      <td>5.0</td>\n",
       "      <td>BLUF: Oh my crispy Lechon! Months later and my...</td>\n",
       "      <td>2020-11-01 09:33:12</td>\n",
       "      <td>5.0</td>\n",
       "      <td>So happy that I finally got the chance to go h...</td>\n",
       "      <td>2020-09-21 15:20:05</td>\n",
       "    </tr>\n",
       "    <tr>\n",
       "      <th>1</th>\n",
       "      <td>9nhzaAX6BdbgF4u2Zxi9RA</td>\n",
       "      <td>Kusshi</td>\n",
       "      <td>486</td>\n",
       "      <td>[Sushi Bars, Japanese, Whiskey Bars]</td>\n",
       "      <td>4.5</td>\n",
       "      <td>$$</td>\n",
       "      <td>['11826 Trade St', 'Rockville, MD 20852']</td>\n",
       "      <td>MD</td>\n",
       "      <td>5.0</td>\n",
       "      <td>I've been a customer of Kusshi since they open...</td>\n",
       "      <td>2020-11-16 17:16:22</td>\n",
       "      <td>5.0</td>\n",
       "      <td>Fast forward almost 2 years later, I am back a...</td>\n",
       "      <td>2020-08-19 08:31:11</td>\n",
       "      <td>5.0</td>\n",
       "      <td>My new favorite sushi spot! It's a little tuck...</td>\n",
       "      <td>2020-07-23 22:57:51</td>\n",
       "    </tr>\n",
       "  </tbody>\n",
       "</table>\n",
       "</div>"
      ],
      "text/plain": [
       "                       id                    Name  Review_Count  \\\n",
       "0  smTFfg1g_BjsUkorL_ZxLQ  Kuya Ja's Lechon Belly           593   \n",
       "1  9nhzaAX6BdbgF4u2Zxi9RA                  Kusshi           486   \n",
       "\n",
       "                             Categories  Rating Price  \\\n",
       "0                            [Filipino]     4.5    $$   \n",
       "1  [Sushi Bars, Japanese, Whiskey Bars]     4.5    $$   \n",
       "\n",
       "                                          Address state  Rating_1  \\\n",
       "0  ['5268-H Nicholson Ln', 'Rockville, MD 20895']    MD       5.0   \n",
       "1       ['11826 Trade St', 'Rockville, MD 20852']    MD       5.0   \n",
       "\n",
       "                                            Review_1       Time_Created_1  \\\n",
       "0  Yup I went to heaven and back. First time here...  2020-12-19 09:33:31   \n",
       "1  I've been a customer of Kusshi since they open...  2020-11-16 17:16:22   \n",
       "\n",
       "   Rating_2                                           Review_2  \\\n",
       "0       5.0  BLUF: Oh my crispy Lechon! Months later and my...   \n",
       "1       5.0  Fast forward almost 2 years later, I am back a...   \n",
       "\n",
       "        Time_Created_2  Rating_3  \\\n",
       "0  2020-11-01 09:33:12       5.0   \n",
       "1  2020-08-19 08:31:11       5.0   \n",
       "\n",
       "                                            Review_3       Time_Created_3  \n",
       "0  So happy that I finally got the chance to go h...  2020-09-21 15:20:05  \n",
       "1  My new favorite sushi spot! It's a little tuck...  2020-07-23 22:57:51  "
      ]
     },
     "execution_count": 21,
     "metadata": {},
     "output_type": "execute_result"
    }
   ],
   "source": [
    "#Read in business and review total data. \n",
    "#converters={'Categories': eval} to read in categories column as list instead of string\n",
    "df = pd.read_csv('Total',converters={'Categories': eval})\n",
    "df.head(2)"
   ]
  },
  {
   "cell_type": "markdown",
   "metadata": {},
   "source": [
    "## Data Preparation\n",
    "\n",
    "A 'state' column from data in the 'display_address' column is created in order to drop non MD and VA restaurants that came through the API. Any restaurants that have 0 reviews are dropped. \n",
    "\n",
    "The initial 'category' series have values in list type and up to 3 items in the list per record. The categories in the list are split and placed in separate columns and a new dataframe is created to capture the attributes for each category."
   ]
  },
  {
   "cell_type": "code",
   "execution_count": 4,
   "metadata": {},
   "outputs": [
    {
     "data": {
      "text/plain": [
       "3"
      ]
     },
     "execution_count": 4,
     "metadata": {},
     "output_type": "execute_result"
    }
   ],
   "source": [
    "#Check to see max length of category list\n",
    "df['Categories'].apply(lambda x: len(x)).max()"
   ]
  },
  {
   "cell_type": "code",
   "execution_count": 36,
   "metadata": {
    "scrolled": true
   },
   "outputs": [
    {
     "data": {
      "text/html": [
       "<div>\n",
       "<style scoped>\n",
       "    .dataframe tbody tr th:only-of-type {\n",
       "        vertical-align: middle;\n",
       "    }\n",
       "\n",
       "    .dataframe tbody tr th {\n",
       "        vertical-align: top;\n",
       "    }\n",
       "\n",
       "    .dataframe thead th {\n",
       "        text-align: right;\n",
       "    }\n",
       "</style>\n",
       "<table border=\"1\" class=\"dataframe\">\n",
       "  <thead>\n",
       "    <tr style=\"text-align: right;\">\n",
       "      <th></th>\n",
       "      <th>id</th>\n",
       "      <th>Name</th>\n",
       "      <th>Review_Count</th>\n",
       "      <th>Categories</th>\n",
       "      <th>Rating</th>\n",
       "      <th>Price</th>\n",
       "      <th>Address</th>\n",
       "      <th>state</th>\n",
       "      <th>Rating_1</th>\n",
       "      <th>Review_1</th>\n",
       "      <th>Time_Created_1</th>\n",
       "      <th>Rating_2</th>\n",
       "      <th>Review_2</th>\n",
       "      <th>Time_Created_2</th>\n",
       "      <th>Rating_3</th>\n",
       "      <th>Review_3</th>\n",
       "      <th>Time_Created_3</th>\n",
       "      <th>cat_1</th>\n",
       "      <th>cat_2</th>\n",
       "      <th>cat_3</th>\n",
       "    </tr>\n",
       "  </thead>\n",
       "  <tbody>\n",
       "    <tr>\n",
       "      <th>0</th>\n",
       "      <td>smTFfg1g_BjsUkorL_ZxLQ</td>\n",
       "      <td>Kuya Ja's Lechon Belly</td>\n",
       "      <td>593</td>\n",
       "      <td>[Filipino]</td>\n",
       "      <td>4.5</td>\n",
       "      <td>$$</td>\n",
       "      <td>['5268-H Nicholson Ln', 'Rockville, MD 20895']</td>\n",
       "      <td>MD</td>\n",
       "      <td>5.0</td>\n",
       "      <td>Yup I went to heaven and back. First time here...</td>\n",
       "      <td>2020-12-19 09:33:31</td>\n",
       "      <td>5.0</td>\n",
       "      <td>BLUF: Oh my crispy Lechon! Months later and my...</td>\n",
       "      <td>2020-11-01 09:33:12</td>\n",
       "      <td>5.0</td>\n",
       "      <td>So happy that I finally got the chance to go h...</td>\n",
       "      <td>2020-09-21 15:20:05</td>\n",
       "      <td>Filipino</td>\n",
       "      <td>None</td>\n",
       "      <td>None</td>\n",
       "    </tr>\n",
       "    <tr>\n",
       "      <th>1</th>\n",
       "      <td>9nhzaAX6BdbgF4u2Zxi9RA</td>\n",
       "      <td>Kusshi</td>\n",
       "      <td>486</td>\n",
       "      <td>[Sushi Bars, Japanese, Whiskey Bars]</td>\n",
       "      <td>4.5</td>\n",
       "      <td>$$</td>\n",
       "      <td>['11826 Trade St', 'Rockville, MD 20852']</td>\n",
       "      <td>MD</td>\n",
       "      <td>5.0</td>\n",
       "      <td>I've been a customer of Kusshi since they open...</td>\n",
       "      <td>2020-11-16 17:16:22</td>\n",
       "      <td>5.0</td>\n",
       "      <td>Fast forward almost 2 years later, I am back a...</td>\n",
       "      <td>2020-08-19 08:31:11</td>\n",
       "      <td>5.0</td>\n",
       "      <td>My new favorite sushi spot! It's a little tuck...</td>\n",
       "      <td>2020-07-23 22:57:51</td>\n",
       "      <td>Sushi Bars</td>\n",
       "      <td>Japanese</td>\n",
       "      <td>Whiskey Bars</td>\n",
       "    </tr>\n",
       "  </tbody>\n",
       "</table>\n",
       "</div>"
      ],
      "text/plain": [
       "                       id                    Name  Review_Count  \\\n",
       "0  smTFfg1g_BjsUkorL_ZxLQ  Kuya Ja's Lechon Belly           593   \n",
       "1  9nhzaAX6BdbgF4u2Zxi9RA                  Kusshi           486   \n",
       "\n",
       "                             Categories  Rating Price  \\\n",
       "0                            [Filipino]     4.5    $$   \n",
       "1  [Sushi Bars, Japanese, Whiskey Bars]     4.5    $$   \n",
       "\n",
       "                                          Address state  Rating_1  \\\n",
       "0  ['5268-H Nicholson Ln', 'Rockville, MD 20895']    MD       5.0   \n",
       "1       ['11826 Trade St', 'Rockville, MD 20852']    MD       5.0   \n",
       "\n",
       "                                            Review_1       Time_Created_1  \\\n",
       "0  Yup I went to heaven and back. First time here...  2020-12-19 09:33:31   \n",
       "1  I've been a customer of Kusshi since they open...  2020-11-16 17:16:22   \n",
       "\n",
       "   Rating_2                                           Review_2  \\\n",
       "0       5.0  BLUF: Oh my crispy Lechon! Months later and my...   \n",
       "1       5.0  Fast forward almost 2 years later, I am back a...   \n",
       "\n",
       "        Time_Created_2  Rating_3  \\\n",
       "0  2020-11-01 09:33:12       5.0   \n",
       "1  2020-08-19 08:31:11       5.0   \n",
       "\n",
       "                                            Review_3       Time_Created_3  \\\n",
       "0  So happy that I finally got the chance to go h...  2020-09-21 15:20:05   \n",
       "1  My new favorite sushi spot! It's a little tuck...  2020-07-23 22:57:51   \n",
       "\n",
       "        cat_1     cat_2         cat_3  \n",
       "0    Filipino      None          None  \n",
       "1  Sushi Bars  Japanese  Whiskey Bars  "
      ]
     },
     "execution_count": 36,
     "metadata": {},
     "output_type": "execute_result"
    }
   ],
   "source": [
    "#Create new columns for each category contained in the 'Categories' list\n",
    "df['cat_1'] = df['Categories'].apply(lambda x: list(x)[0])\n",
    "df['cat_2'] = df['Categories'].apply(lambda x: list(x)[1] if len(x) >1 else None) \n",
    "df['cat_3'] = df['Categories'].apply(lambda x: list(x)[2] if len(x) > 2 else None) \n",
    "df.head(2)"
   ]
  },
  {
   "cell_type": "code",
   "execution_count": 37,
   "metadata": {},
   "outputs": [
    {
     "data": {
      "text/html": [
       "<div>\n",
       "<style scoped>\n",
       "    .dataframe tbody tr th:only-of-type {\n",
       "        vertical-align: middle;\n",
       "    }\n",
       "\n",
       "    .dataframe tbody tr th {\n",
       "        vertical-align: top;\n",
       "    }\n",
       "\n",
       "    .dataframe thead th {\n",
       "        text-align: right;\n",
       "    }\n",
       "</style>\n",
       "<table border=\"1\" class=\"dataframe\">\n",
       "  <thead>\n",
       "    <tr style=\"text-align: right;\">\n",
       "      <th></th>\n",
       "      <th>id</th>\n",
       "      <th>Review_Count</th>\n",
       "      <th>Rating</th>\n",
       "    </tr>\n",
       "    <tr>\n",
       "      <th>cat_1</th>\n",
       "      <th></th>\n",
       "      <th></th>\n",
       "      <th></th>\n",
       "    </tr>\n",
       "  </thead>\n",
       "  <tbody>\n",
       "    <tr>\n",
       "      <th>Afghan</th>\n",
       "      <td>6</td>\n",
       "      <td>1003</td>\n",
       "      <td>23.5</td>\n",
       "    </tr>\n",
       "    <tr>\n",
       "      <th>African</th>\n",
       "      <td>3</td>\n",
       "      <td>248</td>\n",
       "      <td>11.5</td>\n",
       "    </tr>\n",
       "  </tbody>\n",
       "</table>\n",
       "</div>"
      ],
      "text/plain": [
       "         id  Review_Count  Rating\n",
       "cat_1                            \n",
       "Afghan    6          1003    23.5\n",
       "African   3           248    11.5"
      ]
     },
     "execution_count": 37,
     "metadata": {},
     "output_type": "execute_result"
    }
   ],
   "source": [
    "#Create dataframe for each category \n",
    "cat_1_values = df.groupby('cat_1').agg({'id': 'count','Review_Count':'sum', 'Rating': 'sum'})\n",
    "cat_2_values = df.groupby('cat_2').agg({'id': 'count','Review_Count':'sum', 'Rating': 'sum'})\n",
    "cat_3_values = df.groupby('cat_3').agg({'id': 'count','Review_Count':'sum', 'Rating': 'sum'})\n",
    "cat_1_values.head(2)"
   ]
  },
  {
   "cell_type": "code",
   "execution_count": 30,
   "metadata": {},
   "outputs": [
    {
     "data": {
      "text/html": [
       "<div>\n",
       "<style scoped>\n",
       "    .dataframe tbody tr th:only-of-type {\n",
       "        vertical-align: middle;\n",
       "    }\n",
       "\n",
       "    .dataframe tbody tr th {\n",
       "        vertical-align: top;\n",
       "    }\n",
       "\n",
       "    .dataframe thead th {\n",
       "        text-align: right;\n",
       "    }\n",
       "</style>\n",
       "<table border=\"1\" class=\"dataframe\">\n",
       "  <thead>\n",
       "    <tr style=\"text-align: right;\">\n",
       "      <th></th>\n",
       "      <th>id_one</th>\n",
       "      <th>Review_Count_one</th>\n",
       "      <th>Rating_one</th>\n",
       "      <th>id_two</th>\n",
       "      <th>Review_Count_two</th>\n",
       "      <th>Rating_two</th>\n",
       "      <th>id</th>\n",
       "      <th>Review_Count</th>\n",
       "      <th>Rating</th>\n",
       "    </tr>\n",
       "  </thead>\n",
       "  <tbody>\n",
       "    <tr>\n",
       "      <th>Afghan</th>\n",
       "      <td>6.0</td>\n",
       "      <td>1003.0</td>\n",
       "      <td>23.5</td>\n",
       "      <td>2.0</td>\n",
       "      <td>79.0</td>\n",
       "      <td>8.5</td>\n",
       "      <td>NaN</td>\n",
       "      <td>NaN</td>\n",
       "      <td>NaN</td>\n",
       "    </tr>\n",
       "    <tr>\n",
       "      <th>African</th>\n",
       "      <td>3.0</td>\n",
       "      <td>248.0</td>\n",
       "      <td>11.5</td>\n",
       "      <td>1.0</td>\n",
       "      <td>119.0</td>\n",
       "      <td>4.0</td>\n",
       "      <td>NaN</td>\n",
       "      <td>NaN</td>\n",
       "      <td>NaN</td>\n",
       "    </tr>\n",
       "  </tbody>\n",
       "</table>\n",
       "</div>"
      ],
      "text/plain": [
       "         id_one  Review_Count_one  Rating_one  id_two  Review_Count_two  \\\n",
       "Afghan      6.0            1003.0        23.5     2.0              79.0   \n",
       "African     3.0             248.0        11.5     1.0             119.0   \n",
       "\n",
       "         Rating_two  id  Review_Count  Rating  \n",
       "Afghan          8.5 NaN           NaN     NaN  \n",
       "African         4.0 NaN           NaN     NaN  "
      ]
     },
     "execution_count": 30,
     "metadata": {},
     "output_type": "execute_result"
    }
   ],
   "source": [
    "#Join all category dataframes together\n",
    "cat_1_2_values = cat_1_values.join(cat_2_values, how = 'outer', lsuffix = '_one', rsuffix = '_two')\n",
    "cat_info_df = cat_1_2_values.join(cat_3_values, how = 'outer')\n",
    "cat_info_df.head(2)"
   ]
  },
  {
   "cell_type": "code",
   "execution_count": 32,
   "metadata": {},
   "outputs": [
    {
     "data": {
      "text/html": [
       "<div>\n",
       "<style scoped>\n",
       "    .dataframe tbody tr th:only-of-type {\n",
       "        vertical-align: middle;\n",
       "    }\n",
       "\n",
       "    .dataframe tbody tr th {\n",
       "        vertical-align: top;\n",
       "    }\n",
       "\n",
       "    .dataframe thead th {\n",
       "        text-align: right;\n",
       "    }\n",
       "</style>\n",
       "<table border=\"1\" class=\"dataframe\">\n",
       "  <thead>\n",
       "    <tr style=\"text-align: right;\">\n",
       "      <th></th>\n",
       "      <th>count_one</th>\n",
       "      <th>Review_Count_one</th>\n",
       "      <th>Rating_one</th>\n",
       "      <th>count_two</th>\n",
       "      <th>Review_Count_two</th>\n",
       "      <th>Rating_two</th>\n",
       "      <th>count_three</th>\n",
       "      <th>Review_Count_three</th>\n",
       "      <th>Rating_three</th>\n",
       "    </tr>\n",
       "  </thead>\n",
       "  <tbody>\n",
       "    <tr>\n",
       "      <th>Afghan</th>\n",
       "      <td>6.0</td>\n",
       "      <td>1003.0</td>\n",
       "      <td>23.5</td>\n",
       "      <td>2.0</td>\n",
       "      <td>79.0</td>\n",
       "      <td>8.5</td>\n",
       "      <td>0.0</td>\n",
       "      <td>0.0</td>\n",
       "      <td>0.0</td>\n",
       "    </tr>\n",
       "    <tr>\n",
       "      <th>African</th>\n",
       "      <td>3.0</td>\n",
       "      <td>248.0</td>\n",
       "      <td>11.5</td>\n",
       "      <td>1.0</td>\n",
       "      <td>119.0</td>\n",
       "      <td>4.0</td>\n",
       "      <td>0.0</td>\n",
       "      <td>0.0</td>\n",
       "      <td>0.0</td>\n",
       "    </tr>\n",
       "  </tbody>\n",
       "</table>\n",
       "</div>"
      ],
      "text/plain": [
       "         count_one  Review_Count_one  Rating_one  count_two  Review_Count_two  \\\n",
       "Afghan         6.0            1003.0        23.5        2.0              79.0   \n",
       "African        3.0             248.0        11.5        1.0             119.0   \n",
       "\n",
       "         Rating_two  count_three  Review_Count_three  Rating_three  \n",
       "Afghan          8.5          0.0                 0.0           0.0  \n",
       "African         4.0          0.0                 0.0           0.0  "
      ]
     },
     "execution_count": 32,
     "metadata": {},
     "output_type": "execute_result"
    }
   ],
   "source": [
    "#Fill Nan values with 0\n",
    "cat_info_df.fillna(0, inplace = True)\n",
    "#Fix column names\n",
    "cat_info_df.rename(columns = {'Review_Count' : 'Review_Count_three',\n",
    "                              'Rating' : 'Rating_three', 'id_one':'count_one',\n",
    "                              'id_two':'count_two','id':'count_three'}, inplace = True)\n",
    "cat_info_df.head(2)"
   ]
  },
  {
   "cell_type": "code",
   "execution_count": 35,
   "metadata": {},
   "outputs": [
    {
     "data": {
      "text/html": [
       "<div>\n",
       "<style scoped>\n",
       "    .dataframe tbody tr th:only-of-type {\n",
       "        vertical-align: middle;\n",
       "    }\n",
       "\n",
       "    .dataframe tbody tr th {\n",
       "        vertical-align: top;\n",
       "    }\n",
       "\n",
       "    .dataframe thead th {\n",
       "        text-align: right;\n",
       "    }\n",
       "</style>\n",
       "<table border=\"1\" class=\"dataframe\">\n",
       "  <thead>\n",
       "    <tr style=\"text-align: right;\">\n",
       "      <th></th>\n",
       "      <th>count_one</th>\n",
       "      <th>Review_Count_one</th>\n",
       "      <th>Rating_one</th>\n",
       "      <th>count_two</th>\n",
       "      <th>Review_Count_two</th>\n",
       "      <th>Rating_two</th>\n",
       "      <th>count_three</th>\n",
       "      <th>Review_Count_three</th>\n",
       "      <th>Rating_three</th>\n",
       "      <th>total</th>\n",
       "      <th>total_review_count</th>\n",
       "      <th>total_rating</th>\n",
       "      <th>avg_review_count</th>\n",
       "      <th>avg_rating</th>\n",
       "    </tr>\n",
       "  </thead>\n",
       "  <tbody>\n",
       "    <tr>\n",
       "      <th>Afghan</th>\n",
       "      <td>6.0</td>\n",
       "      <td>1003.0</td>\n",
       "      <td>23.5</td>\n",
       "      <td>2.0</td>\n",
       "      <td>79.0</td>\n",
       "      <td>8.5</td>\n",
       "      <td>0.0</td>\n",
       "      <td>0.0</td>\n",
       "      <td>0.0</td>\n",
       "      <td>8.0</td>\n",
       "      <td>1082.0</td>\n",
       "      <td>32.0</td>\n",
       "      <td>135.25</td>\n",
       "      <td>4.000</td>\n",
       "    </tr>\n",
       "    <tr>\n",
       "      <th>African</th>\n",
       "      <td>3.0</td>\n",
       "      <td>248.0</td>\n",
       "      <td>11.5</td>\n",
       "      <td>1.0</td>\n",
       "      <td>119.0</td>\n",
       "      <td>4.0</td>\n",
       "      <td>0.0</td>\n",
       "      <td>0.0</td>\n",
       "      <td>0.0</td>\n",
       "      <td>4.0</td>\n",
       "      <td>367.0</td>\n",
       "      <td>15.5</td>\n",
       "      <td>91.75</td>\n",
       "      <td>3.875</td>\n",
       "    </tr>\n",
       "  </tbody>\n",
       "</table>\n",
       "</div>"
      ],
      "text/plain": [
       "         count_one  Review_Count_one  Rating_one  count_two  Review_Count_two  \\\n",
       "Afghan         6.0            1003.0        23.5        2.0              79.0   \n",
       "African        3.0             248.0        11.5        1.0             119.0   \n",
       "\n",
       "         Rating_two  count_three  Review_Count_three  Rating_three  total  \\\n",
       "Afghan          8.5          0.0                 0.0           0.0    8.0   \n",
       "African         4.0          0.0                 0.0           0.0    4.0   \n",
       "\n",
       "         total_review_count  total_rating  avg_review_count  avg_rating  \n",
       "Afghan               1082.0          32.0            135.25       4.000  \n",
       "African               367.0          15.5             91.75       3.875  "
      ]
     },
     "execution_count": 35,
     "metadata": {},
     "output_type": "execute_result"
    }
   ],
   "source": [
    "#Create columns for total and average review_counts and ratings\n",
    "cat_info_df['total'] =  cat_info_df['count_one'] + cat_info_df['count_two'] + cat_info_df['count_three']\n",
    "cat_info_df['total_review_count'] = cat_info_df['Review_Count_one'] + cat_info_df['Review_Count_two'] + cat_info_df['Review_Count_three']\n",
    "cat_info_df['total_rating'] = cat_info_df['Rating_one'] + cat_info_df['Rating_two'] + cat_info_df['Rating_three']\n",
    "cat_info_df['avg_review_count'] = cat_info_df['total_review_count'] / cat_info_df['total']\n",
    "cat_info_df['avg_rating'] = cat_info_df['total_rating'] / cat_info_df['total']\n",
    "cat_info_df.head(2)"
   ]
  },
  {
   "cell_type": "markdown",
   "metadata": {},
   "source": [
    "## Data Modeling\n",
    "The goal is to find a category of restaurants that have high review counts and low ratings. This would show a category where the existing restaurants are popular, but the public opinion of them is low. \n",
    "\n",
    "\n",
    "\n",
    "### Top 15 Categories By Total Amount of Restaurants\n",
    "A bart chart is used to determine the categories with the largest quantity of restaurants. These are categories to avoid due to a crowded existing market."
   ]
  },
  {
   "cell_type": "code",
   "execution_count": 39,
   "metadata": {},
   "outputs": [
    {
     "data": {
      "image/png": "[encoded data removed]",
      "text/plain": [
       "<Figure size 1440x720 with 1 Axes>"
      ]
     },
     "metadata": {
      "needs_background": "light"
     },
     "output_type": "display_data"
    }
   ],
   "source": [
    "#Create bar graph of Top 15 Categories\n",
    "fig,ax = plt.subplots(figsize = (20,10))\n",
    "x = cat_info_df.sort_values('total', ascending = False).reset_index()['index'][0:15]\n",
    "y = cat_info_df.sort_values('total', ascending = False)['total'][0:15]\n",
    "ax.bar(x,y, color = 'orange')\n",
    "plt.xticks(rotation='vertical')\n",
    "ax.set_title('Top 15 Categories By Total Amount of Restaurants', fontsize = 15)\n",
    "ax.set_xlabel('Categories', fontsize = 15)\n",
    "ax.set_ylabel('Total Restaurants', fontsize = 15)\n",
    "ax.tick_params(axis = 'both', which = 'major', labelsize = 15)"
   ]
  },
  {
   "cell_type": "markdown",
   "metadata": {},
   "source": [
    "## Distribution of Average Review Counts"
   ]
  },
  {
   "cell_type": "code",
   "execution_count": 77,
   "metadata": {
    "scrolled": false
   },
   "outputs": [
    {
     "data": {
      "image/png": "[encoded data removed]",
      "text/plain": [
       "<Figure size 1440x720 with 1 Axes>"
      ]
     },
     "metadata": {
      "needs_background": "light"
     },
     "output_type": "display_data"
    }
   ],
   "source": [
    "fig,ax = plt.subplots(figsize = (20,10))\n",
    "\n",
    "ax.hist(cat_info_df[cat_info_df['total'] > 5]['avg_review_count'], bins = 8, color = 'b')\n",
    "avl = plt.axvline(cat_info_df[cat_info_df['total'] > 5]['avg_review_count'].mean(), color='k', linestyle='dashed', linewidth=1)\n",
    "ax.set_title('Distribution of Average Review Counts by Category', fontsize = 15)\n",
    "ax.set_xlabel('Average Review Count', fontsize = 15)\n",
    "ax.set_ylabel('Number of Categories', fontsize = 15)\n",
    "plt.legend([avl], ['Mean = 222.38'])\n",
    "plt.show()"
   ]
  },
  {
   "cell_type": "markdown",
   "metadata": {},
   "source": [
    "We want to find Categories in the right part of this distrubtion as those category's restaurants that are more popular on average. "
   ]
  },
  {
   "cell_type": "markdown",
   "metadata": {},
   "source": [
    "## Distribution of Average Ratings"
   ]
  },
  {
   "cell_type": "code",
   "execution_count": 78,
   "metadata": {
    "scrolled": true
   },
   "outputs": [
    {
     "data": {
      "image/png": "[encoded data removed]",
      "text/plain": [
       "<Figure size 1440x720 with 1 Axes>"
      ]
     },
     "metadata": {
      "needs_background": "light"
     },
     "output_type": "display_data"
    }
   ],
   "source": [
    "fig,ax = plt.subplots(figsize = (20,10))\n",
    "\n",
    "ax.hist(cat_info_df[cat_info_df['total'] > 5]['avg_rating'], bins = 9, color = 'g')\n",
    "avl = plt.axvline(cat_info_df[cat_info_df['total'] > 5]['avg_rating'].mean(), color='k', linestyle='dashed', linewidth=1)\n",
    "ax.set_title('Distribution of Average Rating by Category', fontsize = 15)\n",
    "ax.set_xlabel('Average Rating', fontsize = 15)\n",
    "ax.set_ylabel('Number of Categories', fontsize = 15)\n",
    "plt.legend([avl], ['Mean = 3.705'])\n",
    "plt.show()"
   ]
  },
  {
   "cell_type": "markdown",
   "metadata": {},
   "source": [
    "We want to find Categories in the left part of this distrubtion as people have lower opinion on average of those category's restaurants."
   ]
  },
  {
   "cell_type": "markdown",
   "metadata": {},
   "source": [
    "### Top 15 Categories By Average Review Count With Ratings\n",
    "Average review count is used to determine top categories where the restaurants are on average more popular than restaurants in other cateogries. Average ratings are added to determine customer satisfaction and to see if there is a disconnect between popularity and customer satisfaction. \n"
   ]
  },
  {
   "cell_type": "code",
   "execution_count": 82,
   "metadata": {},
   "outputs": [
    {
     "data": {
      "image/png": "[encoded data removed]",
      "text/plain": [
       "<Figure size 1440x720 with 2 Axes>"
      ]
     },
     "metadata": {
      "needs_background": "light"
     },
     "output_type": "display_data"
    }
   ],
   "source": [
    "#Create bar chart using average review counts and ratings\n",
    "x1 = cat_info_df[cat_info_df['total'] > 5].sort_values('avg_review_count', ascending = False).reset_index()['index'][0:15]\n",
    "y1 = cat_info_df[cat_info_df['total'] > 5].sort_values('avg_review_count', ascending = False)['avg_review_count'][0:15]\n",
    "y2 = cat_info_df[cat_info_df['total'] > 5].sort_values('avg_review_count', ascending = False)['avg_rating'][0:15]\n",
    "plt.figure(figsize=(20,10))\n",
    "x = np.arange(15)\n",
    "ax1 = plt.subplot(1,1,1)\n",
    "w = 0.3\n",
    "plt.xticks(x + w /2, x1, rotation='vertical')\n",
    "arc =ax1.bar(x, y1, width=w, color='b', align='center')\n",
    "plt.ylabel('Average Review Count', fontsize = 15)\n",
    "plt.xlabel('Category', fontsize = 15)\n",
    "ax2 = ax1.twinx()\n",
    "ar =ax2.bar(x + w, y2, width=w,color='g',align='center')\n",
    "plt.ylabel('Average Rating', fontsize = 15)\n",
    "ax2.set_ylim([2.5,5])\n",
    "al = plt.axhline(y=df['Rating'].mean(),linewidth=1, color='k', label = 'All Restaurants Avg Rating')\n",
    "plt.legend([arc, ar, al],['Avg Review Count', 'Avg Rating', 'All Restaurants Avg Rating'])\n",
    "plt.title('Top 15 Categories By Average Review Count With Ratings', fontsize = 15)\n",
    "plt.show()"
   ]
  },
  {
   "cell_type": "markdown",
   "metadata": {},
   "source": [
    "From the above chart, Steakhouses and Cantonese restaurants have the lowest average rating. This shows an unmet satisfaction for restaruants in those categories. \n",
    "\n",
    "### Steakhouses vs Cantonese Restaurants\n",
    "Steakhouses and Cantonese restaurant metrics are compared between each state to decide which category and where to place the new restaurant. "
   ]
  },
  {
   "cell_type": "code",
   "execution_count": 67,
   "metadata": {
    "scrolled": true
   },
   "outputs": [
    {
     "data": {
      "text/html": [
       "<div>\n",
       "<style scoped>\n",
       "    .dataframe tbody tr th:only-of-type {\n",
       "        vertical-align: middle;\n",
       "    }\n",
       "\n",
       "    .dataframe tbody tr th {\n",
       "        vertical-align: top;\n",
       "    }\n",
       "\n",
       "    .dataframe thead th {\n",
       "        text-align: right;\n",
       "    }\n",
       "</style>\n",
       "<table border=\"1\" class=\"dataframe\">\n",
       "  <thead>\n",
       "    <tr style=\"text-align: right;\">\n",
       "      <th></th>\n",
       "      <th>Count</th>\n",
       "      <th>Rating</th>\n",
       "      <th>Review_Count</th>\n",
       "      <th>title</th>\n",
       "    </tr>\n",
       "    <tr>\n",
       "      <th>state</th>\n",
       "      <th></th>\n",
       "      <th></th>\n",
       "      <th></th>\n",
       "      <th></th>\n",
       "    </tr>\n",
       "  </thead>\n",
       "  <tbody>\n",
       "    <tr>\n",
       "      <th>MD</th>\n",
       "      <td>12</td>\n",
       "      <td>3.541667</td>\n",
       "      <td>438.000000</td>\n",
       "      <td>steakhouse_MD</td>\n",
       "    </tr>\n",
       "    <tr>\n",
       "      <th>VA</th>\n",
       "      <td>9</td>\n",
       "      <td>3.277778</td>\n",
       "      <td>230.666667</td>\n",
       "      <td>steakhouse_VA</td>\n",
       "    </tr>\n",
       "    <tr>\n",
       "      <th>MD</th>\n",
       "      <td>5</td>\n",
       "      <td>3.300000</td>\n",
       "      <td>256.000000</td>\n",
       "      <td>cantonese_MD</td>\n",
       "    </tr>\n",
       "    <tr>\n",
       "      <th>VA</th>\n",
       "      <td>2</td>\n",
       "      <td>3.500000</td>\n",
       "      <td>466.500000</td>\n",
       "      <td>cantonese_VA</td>\n",
       "    </tr>\n",
       "  </tbody>\n",
       "</table>\n",
       "</div>"
      ],
      "text/plain": [
       "       Count    Rating  Review_Count          title\n",
       "state                                              \n",
       "MD        12  3.541667    438.000000  steakhouse_MD\n",
       "VA         9  3.277778    230.666667  steakhouse_VA\n",
       "MD         5  3.300000    256.000000   cantonese_MD\n",
       "VA         2  3.500000    466.500000   cantonese_VA"
      ]
     },
     "execution_count": 67,
     "metadata": {},
     "output_type": "execute_result"
    }
   ],
   "source": [
    "#Data frame comparing Steakhouses between MD and VA\n",
    "steakhouse_df = df[(df['cat_2'] == 'Steakhouses') | (df['cat_3'] == 'Steakhouses') | ((df['cat_1'] == 'Steakhouses'))].groupby('state').agg({'Name':'count','Rating':'mean','Review_Count':'mean'}).rename(columns={'Name':'Count'})\n",
    "steakhouse_df['title'] = 'steakhouse_' + steakhouse_df.index\n",
    "#Data frame comparing Cantonese Restaurants between MD and VA\n",
    "cantonese_df = df[(df['cat_2'] == 'Cantonese') | (df['cat_3'] == 'Cantonese')| (df['cat_1'] == 'Cantonese')].groupby('state').agg({'Name':'count','Rating':'mean','Review_Count':'mean'}).rename(columns={'Name':'Count'})\n",
    "cantonese_df['title'] = 'cantonese_' + cantonese_df.index\n",
    "#Concat data frames\n",
    "steak_cant = pd.concat([steakhouse_df, cantonese_df])\n",
    "steak_cant"
   ]
  },
  {
   "cell_type": "code",
   "execution_count": 70,
   "metadata": {},
   "outputs": [
    {
     "data": {
      "image/png": "[encoded data removed]",
      "text/plain": [
       "<Figure size 432x288 with 1 Axes>"
      ]
     },
     "metadata": {
      "needs_background": "light"
     },
     "output_type": "display_data"
    }
   ],
   "source": [
    "#Create bar chart of review counts \n",
    "fig, ax = plt.subplots()\n",
    "x = steak_cant['title']\n",
    "y = steak_cant['Review_Count']\n",
    "ax.bar(x,y)\n",
    "ax.set_title('Average Review Count For Steakhouses and Cantonese by State')\n",
    "ax.set_xlabel('Category and State')\n",
    "ax.set_ylabel('Average Review Counts');"
   ]
  },
  {
   "cell_type": "markdown",
   "metadata": {},
   "source": [
    "Steakhouses in Maryland and Cantonese restaurants in VA have the highest average review counts. Restaurant average ratings and count are used determine between those options."
   ]
  },
  {
   "cell_type": "code",
   "execution_count": 88,
   "metadata": {},
   "outputs": [
    {
     "data": {
      "image/png": "[encoded data removed]",
      "text/plain": [
       "<Figure size 432x288 with 1 Axes>"
      ]
     },
     "metadata": {
      "needs_background": "light"
     },
     "output_type": "display_data"
    }
   ],
   "source": [
    "#Create bar chart of ratings\n",
    "fig, ax = plt.subplots()\n",
    "x = steak_cant[steak_cant['title'].isin(['steakhouse_MD', 'cantonese_VA'])]['title']\n",
    "y = steak_cant[steak_cant['title'].isin(['steakhouse_MD', 'cantonese_VA'])]['Rating']\n",
    "ax.bar(x,y, color = 'red');\n",
    "ax.set_title('Rating')\n",
    "ax.set_xlabel('Categoy and State')\n",
    "ax.set_ylabel('Average Rating');"
   ]
  },
  {
   "cell_type": "markdown",
   "metadata": {},
   "source": [
    "Ratings between the two options are similar. No determination can be made."
   ]
  },
  {
   "cell_type": "code",
   "execution_count": 89,
   "metadata": {},
   "outputs": [
    {
     "data": {
      "image/png": "[encoded data removed]",
      "text/plain": [
       "<Figure size 432x288 with 1 Axes>"
      ]
     },
     "metadata": {
      "needs_background": "light"
     },
     "output_type": "display_data"
    }
   ],
   "source": [
    "#Create bar chart of ratings\n",
    "fig, ax = plt.subplots()\n",
    "x = steak_cant[steak_cant['title'].isin(['steakhouse_MD', 'cantonese_VA'])]['title']\n",
    "y = steak_cant[steak_cant['title'].isin(['steakhouse_MD', 'cantonese_VA'])]['Count']\n",
    "ax.bar(x,y, color = 'purple');\n",
    "ax.set_title('Restaurant Counts')\n",
    "ax.set_xlabel('Categoy and State')\n",
    "ax.set_ylabel('Count');"
   ]
  },
  {
   "cell_type": "markdown",
   "metadata": {},
   "source": [
    "There are a greater number of Steakhouses in MD than Cantonese restaurants in VA. This leads to the conclusion to open a Cantonese restaurant in VA due to less competition."
   ]
  },
  {
   "cell_type": "markdown",
   "metadata": {},
   "source": [
    "### MD vs VA Census Data"
   ]
  },
  {
   "cell_type": "markdown",
   "metadata": {},
   "source": [
    "Let's also grab the median household income and population census data from 2019  for the areas we are looking at to see if that will nudge us further in any direction. Our restaurant radius includes Arlington and Fairfax counties in Virginia and Montgomery County in Maryland."
   ]
  },
  {
   "cell_type": "code",
   "execution_count": 90,
   "metadata": {
    "scrolled": true
   },
   "outputs": [
    {
     "data": {
      "text/html": [
       "<div>\n",
       "<style scoped>\n",
       "    .dataframe tbody tr th:only-of-type {\n",
       "        vertical-align: middle;\n",
       "    }\n",
       "\n",
       "    .dataframe tbody tr th {\n",
       "        vertical-align: top;\n",
       "    }\n",
       "\n",
       "    .dataframe thead th {\n",
       "        text-align: right;\n",
       "    }\n",
       "</style>\n",
       "<table border=\"1\" class=\"dataframe\">\n",
       "  <thead>\n",
       "    <tr style=\"text-align: right;\">\n",
       "      <th></th>\n",
       "      <th>Median Household Income</th>\n",
       "      <th>Age 16+ Population</th>\n",
       "    </tr>\n",
       "  </thead>\n",
       "  <tbody>\n",
       "    <tr>\n",
       "      <th>Arlington County, Virginia: Summary level: 050, state:51&gt; county:013</th>\n",
       "      <td>120071</td>\n",
       "      <td>195728</td>\n",
       "    </tr>\n",
       "    <tr>\n",
       "      <th>Fairfax County, Virginia: Summary level: 050, state:51&gt; county:059</th>\n",
       "      <td>124831</td>\n",
       "      <td>905295</td>\n",
       "    </tr>\n",
       "    <tr>\n",
       "      <th>Montgomery County, Maryland: Summary level: 050, state:24&gt; county:031</th>\n",
       "      <td>108820</td>\n",
       "      <td>826787</td>\n",
       "    </tr>\n",
       "  </tbody>\n",
       "</table>\n",
       "</div>"
      ],
      "text/plain": [
       "                                                    Median Household Income  \\\n",
       "Arlington County, Virginia: Summary level: 050,...                   120071   \n",
       "Fairfax County, Virginia: Summary level: 050, s...                   124831   \n",
       "Montgomery County, Maryland: Summary level: 050...                   108820   \n",
       "\n",
       "                                                    Age 16+ Population  \n",
       "Arlington County, Virginia: Summary level: 050,...              195728  \n",
       "Fairfax County, Virginia: Summary level: 050, s...              905295  \n",
       "Montgomery County, Maryland: Summary level: 050...              826787  "
      ]
     },
     "execution_count": 90,
     "metadata": {},
     "output_type": "execute_result"
    }
   ],
   "source": [
    "#Use census data to compare income and age population\n",
    "import censusdata\n",
    "arlington_income_pop = censusdata.download('acs5', 2019, censusdata.censusgeo((('state', '51'), ('county', '013'))),\n",
    "                                   ['DP03_0062E', 'DP03_0001E'],\n",
    "                                   tabletype='profile')\n",
    "fairfax_income_pop = censusdata.download('acs5', 2019, censusdata.censusgeo((('state', '51'), ('county', '059'))),\n",
    "                                   ['DP03_0062E', 'DP03_0001E'],\n",
    "                                   tabletype='profile')\n",
    "moco_income_pop = censusdata.download('acs5', 2019, censusdata.censusgeo((('state', '24'), ('county', '031'))),\n",
    "                                   ['DP03_0062E', 'DP03_0001E'],\n",
    "                                   tabletype='profile') \n",
    "\n",
    "county_data = pd.concat([arlington_income_pop, fairfax_income_pop, moco_income_pop])\n",
    "county_data.rename(columns = {'DP03_0062E': 'Median Household Income', 'DP03_0001E': 'Age 16+ Population'}, inplace = True)\n",
    "county_data"
   ]
  },
  {
   "cell_type": "markdown",
   "metadata": {},
   "source": [
    "Data shows a higher median household income in VA pointing toward more potential for families to spend that income dining out."
   ]
  },
  {
   "cell_type": "markdown",
   "metadata": {},
   "source": [
    "***\n",
    "\n",
    "## Consideration For Cantonese Restaurants\n",
    "All restaurants categorized as Cantonese restaurants were also catergorized as Dim Sum restaurants."
   ]
  },
  {
   "cell_type": "code",
   "execution_count": 91,
   "metadata": {},
   "outputs": [
    {
     "data": {
      "text/plain": [
       "Dim Sum    7\n",
       "Name: cat_1, dtype: int64"
      ]
     },
     "execution_count": 91,
     "metadata": {},
     "output_type": "execute_result"
    }
   ],
   "source": [
    "df[(df['cat_2'] == 'Cantonese') | (df['cat_3'] == 'Cantonese') | (df['cat_1'] == 'Cantonese')]['cat_1'].value_counts()"
   ]
  },
  {
   "cell_type": "markdown",
   "metadata": {},
   "source": [
    "Therefore, final conclusion is to open a Dim Sum Cantonese restaurant. "
   ]
  },
  {
   "cell_type": "markdown",
   "metadata": {},
   "source": [
    "***\n",
    "## Evaluation and Conclusion "
   ]
  },
  {
   "cell_type": "markdown",
   "metadata": {},
   "source": [
    "![example](Images/Dim_Sum_Pic.JPG)"
   ]
  },
  {
   "cell_type": "markdown",
   "metadata": {},
   "source": [
    "A Dim Sum Cantonese restaurant in VA shows potential to be the most posperous. This was concluded with VA Dim Sum Cantonese restauarnts having higher average review counts, lower average ratings, lower counts, and a higher median household income in VA. "
   ]
  },
  {
   "cell_type": "markdown",
   "metadata": {},
   "source": [
    "Annecdotally, reviews from the Dim Sum Cantonese restaurants in VA emphasize the results concluded above by showing a desire for more and better Dim Sum Cantonese restaurants in the area. "
   ]
  },
  {
   "cell_type": "code",
   "execution_count": 94,
   "metadata": {},
   "outputs": [],
   "source": [
    "#Code to show full review text\n",
    "from IPython.display import display\n",
    "pd.set_option('display.max_colwidth', None)"
   ]
  },
  {
   "cell_type": "code",
   "execution_count": 95,
   "metadata": {},
   "outputs": [
    {
     "data": {
      "text/plain": [
       "' We had been looking forward to visiting a Dim Sum place in DC and to our disappointment they had been shut down for a couple of years. That left us with...'"
      ]
     },
     "execution_count": 95,
     "metadata": {},
     "output_type": "execute_result"
    }
   ],
   "source": [
    "df[df['id'] == 'qYt89GRyEBBEP29J4wF2Zw']['Review_1'].to_string(index = False)"
   ]
  },
  {
   "cell_type": "code",
   "execution_count": 96,
   "metadata": {},
   "outputs": [
    {
     "data": {
      "text/plain": [
       "' 5 stars for Peking duck, 3 stars for the other dishes. They don\\'t call it \"other dish\" house, after all!\\\\n\\\\nThey were open for thanksgiving 2020, and of the...'"
      ]
     },
     "execution_count": 96,
     "metadata": {},
     "output_type": "execute_result"
    }
   ],
   "source": [
    "df[df['id'] == 'duer52a0aMheoSXUNZmnTQ']['Review_1'].to_string(index = False)"
   ]
  },
  {
   "cell_type": "markdown",
   "metadata": {},
   "source": [
    "***\n",
    "## Next Steps\n",
    "\n",
    "While the data supports opening a Dim Sum Cantonese restaurant in VA there are some things to further consider. \n",
    "\n",
    " - Yelp data can only shed light on popularity and restaurant sentiment. It does not provide insight on potential profitability.\n",
    " - The length of how long a business has been open could bias the average review counts.\n",
    " - The current pandemic has changed dining trends which may not be reflected in the historical data from Yelp.\n",
    "\n",
    "About Cantonese cuisine:\n",
    "https://www.seriouseats.com/2014/10/introduction-what-is-cantonese-chinese-cuisine.html"
   ]
  }
 ],
 "metadata": {
  "kernelspec": {
   "display_name": "Python 3",
   "language": "python",
   "name": "python3"
  },
  "language_info": {
   "codemirror_mode": {
    "name": "ipython",
    "version": 3
   },
   "file_extension": ".py",
   "mimetype": "text/x-python",
   "name": "python",
   "nbconvert_exporter": "python",
   "pygments_lexer": "ipython3",
   "version": "3.8.3"
  }
 },
 "nbformat": 4,
 "nbformat_minor": 4
}
