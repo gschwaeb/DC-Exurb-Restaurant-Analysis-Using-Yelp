{
 "cells": [
  {
   "cell_type": "markdown",
   "metadata": {},
   "source": [
    "# DC Exurb Restaurant Analysis Using Yelp\n",
    "\n",
    "**Authors:** Jaclyn Dwyer and Gary Schwaeber\n",
    "***"
   ]
  },
  {
   "cell_type": "markdown",
   "metadata": {},
   "source": [
    "![example](Images/Outdoor_Pic.jpeg)"
   ]
  },
  {
   "cell_type": "markdown",
   "metadata": {},
   "source": [
    "## Overview\n",
    "\n",
    "The project explores where to open a new restaurant between the DC exurbs of Southern Maryland and Northern Virginia. Data from Yelp is used to analyze the success and popularity of different categories of restaurants within these areas. Results show the potential to open a prosperous Dim Sum Cantonese restaurant within Northern Virginia.\n",
    "***"
   ]
  },
  {
   "cell_type": "markdown",
   "metadata": {},
   "source": [
    "## Business Problem \n",
    "\n",
    "Yelp data was used to consider the dilemna of where to put a new restuarant between the MD and VA exurbs of DC as well as what type of restaurant. Analyzing the amount, populatrity, and success of existing restaurants was used to make a determination of the area and category of restaurant that could be successful. The goal is to find some category of restaurant where there is an untapped or underdeveloped market.\n",
    "\n",
    "***"
   ]
  },
  {
   "cell_type": "markdown",
   "metadata": {},
   "source": [
    "## Data Understanding\n",
    "\n",
    "Using Yelp, data is sourced for each restaurant within the areas being investigated. Yelp users contribute ratings and reviews based on their experiences at a given business. The business search data provides information about the cateogry, rating, price, review count, and address of each restaurant. Review count is used to measure popularity of a business. Rating is a metric used to measure public opinion of a business. The review data is used to anecdotally support the findings from the business search data.\n",
    "\n",
    "\n"
   ]
  },
  {
   "cell_type": "code",
   "execution_count": 1,
   "metadata": {},
   "outputs": [],
   "source": [
    "# Import standard packages\n",
    "import pandas as pd\n",
    "import numpy as np\n",
    "import matplotlib.pyplot as plt\n",
    "import seaborn as sns\n",
    "\n",
    "%matplotlib inline"
   ]
  },
  {
   "cell_type": "code",
   "execution_count": 3,
   "metadata": {},
   "outputs": [],
   "source": [
    "#read in our business and review total data. \n",
    "#converters={'Categories': eval} code used to read in categories column as list instead of string\n",
    "df = pd.read_csv('Total',converters={'Categories': eval})"
   ]
  },
  {
   "cell_type": "code",
   "execution_count": 4,
   "metadata": {
    "scrolled": true
   },
   "outputs": [
    {
     "data": {
      "text/html": [
       "<div>\n",
       "<style scoped>\n",
       "    .dataframe tbody tr th:only-of-type {\n",
       "        vertical-align: middle;\n",
       "    }\n",
       "\n",
       "    .dataframe tbody tr th {\n",
       "        vertical-align: top;\n",
       "    }\n",
       "\n",
       "    .dataframe thead th {\n",
       "        text-align: right;\n",
       "    }\n",
       "</style>\n",
       "<table border=\"1\" class=\"dataframe\">\n",
       "  <thead>\n",
       "    <tr style=\"text-align: right;\">\n",
       "      <th></th>\n",
       "      <th>id</th>\n",
       "      <th>Name</th>\n",
       "      <th>Review_Count</th>\n",
       "      <th>Categories</th>\n",
       "      <th>Rating</th>\n",
       "      <th>Price</th>\n",
       "      <th>Address</th>\n",
       "      <th>state</th>\n",
       "      <th>Rating_1</th>\n",
       "      <th>Review_1</th>\n",
       "      <th>Time_Created_1</th>\n",
       "      <th>Rating_2</th>\n",
       "      <th>Review_2</th>\n",
       "      <th>Time_Created_2</th>\n",
       "      <th>Rating_3</th>\n",
       "      <th>Review_3</th>\n",
       "      <th>Time_Created_3</th>\n",
       "    </tr>\n",
       "  </thead>\n",
       "  <tbody>\n",
       "    <tr>\n",
       "      <th>0</th>\n",
       "      <td>smTFfg1g_BjsUkorL_ZxLQ</td>\n",
       "      <td>Kuya Ja's Lechon Belly</td>\n",
       "      <td>593</td>\n",
       "      <td>[Filipino]</td>\n",
       "      <td>4.5</td>\n",
       "      <td>$$</td>\n",
       "      <td>['5268-H Nicholson Ln', 'Rockville, MD 20895']</td>\n",
       "      <td>MD</td>\n",
       "      <td>5.0</td>\n",
       "      <td>Yup I went to heaven and back. First time here...</td>\n",
       "      <td>2020-12-19 09:33:31</td>\n",
       "      <td>5.0</td>\n",
       "      <td>BLUF: Oh my crispy Lechon! Months later and my...</td>\n",
       "      <td>2020-11-01 09:33:12</td>\n",
       "      <td>5.0</td>\n",
       "      <td>So happy that I finally got the chance to go h...</td>\n",
       "      <td>2020-09-21 15:20:05</td>\n",
       "    </tr>\n",
       "    <tr>\n",
       "      <th>1</th>\n",
       "      <td>9nhzaAX6BdbgF4u2Zxi9RA</td>\n",
       "      <td>Kusshi</td>\n",
       "      <td>486</td>\n",
       "      <td>[Sushi Bars, Japanese, Whiskey Bars]</td>\n",
       "      <td>4.5</td>\n",
       "      <td>$$</td>\n",
       "      <td>['11826 Trade St', 'Rockville, MD 20852']</td>\n",
       "      <td>MD</td>\n",
       "      <td>5.0</td>\n",
       "      <td>I've been a customer of Kusshi since they open...</td>\n",
       "      <td>2020-11-16 17:16:22</td>\n",
       "      <td>5.0</td>\n",
       "      <td>Fast forward almost 2 years later, I am back a...</td>\n",
       "      <td>2020-08-19 08:31:11</td>\n",
       "      <td>5.0</td>\n",
       "      <td>My new favorite sushi spot! It's a little tuck...</td>\n",
       "      <td>2020-07-23 22:57:51</td>\n",
       "    </tr>\n",
       "    <tr>\n",
       "      <th>2</th>\n",
       "      <td>OaI2Mh2fXj_RUq7hnGV_iQ</td>\n",
       "      <td>Nada</td>\n",
       "      <td>447</td>\n",
       "      <td>[Breakfast &amp; Brunch, Mexican]</td>\n",
       "      <td>4.0</td>\n",
       "      <td>$$</td>\n",
       "      <td>['11886 Grand Park Ave', 'North Bethesda, MD 2...</td>\n",
       "      <td>MD</td>\n",
       "      <td>5.0</td>\n",
       "      <td>Today was my second time visiting Nada (first ...</td>\n",
       "      <td>2021-01-16 13:40:35</td>\n",
       "      <td>5.0</td>\n",
       "      <td>I have been in this place twice during the pan...</td>\n",
       "      <td>2020-12-02 06:26:31</td>\n",
       "      <td>5.0</td>\n",
       "      <td>I'm updating my review to 5 stars because I've...</td>\n",
       "      <td>2020-11-08 17:46:19</td>\n",
       "    </tr>\n",
       "    <tr>\n",
       "      <th>3</th>\n",
       "      <td>UYffA9zyxFnu8E0T2hqoNw</td>\n",
       "      <td>Akira Ramen &amp; Izakaya</td>\n",
       "      <td>708</td>\n",
       "      <td>[Izakaya, Ramen]</td>\n",
       "      <td>4.0</td>\n",
       "      <td>$$</td>\n",
       "      <td>['1800 Rockville Pike', 'Unit H1', 'Rockville,...</td>\n",
       "      <td>MD</td>\n",
       "      <td>5.0</td>\n",
       "      <td>I love this place. It was my first time here a...</td>\n",
       "      <td>2020-12-22 17:13:08</td>\n",
       "      <td>5.0</td>\n",
       "      <td>We ordered from Akira many times and they neve...</td>\n",
       "      <td>2021-02-14 08:08:32</td>\n",
       "      <td>5.0</td>\n",
       "      <td>Akira is open for dine in and take out options...</td>\n",
       "      <td>2020-07-27 11:33:02</td>\n",
       "    </tr>\n",
       "    <tr>\n",
       "      <th>4</th>\n",
       "      <td>ExMamAA8DqKpvwupNLdCgQ</td>\n",
       "      <td>KPOT Korean BBQ &amp; Hot Pot</td>\n",
       "      <td>634</td>\n",
       "      <td>[Barbeque, Hot Pot, Bars]</td>\n",
       "      <td>4.0</td>\n",
       "      <td>$$</td>\n",
       "      <td>['5550 Randolph Rd', 'Rockville, MD 20852']</td>\n",
       "      <td>MD</td>\n",
       "      <td>5.0</td>\n",
       "      <td>My second time at K Pot and they definitely st...</td>\n",
       "      <td>2020-09-27 15:42:22</td>\n",
       "      <td>5.0</td>\n",
       "      <td>This is our family's favorite Korean BBQ and h...</td>\n",
       "      <td>2020-08-29 19:18:45</td>\n",
       "      <td>5.0</td>\n",
       "      <td>Welp, I think I've found a new favorite KBBQ s...</td>\n",
       "      <td>2020-10-10 10:13:34</td>\n",
       "    </tr>\n",
       "  </tbody>\n",
       "</table>\n",
       "</div>"
      ],
      "text/plain": [
       "                       id                       Name  Review_Count  \\\n",
       "0  smTFfg1g_BjsUkorL_ZxLQ     Kuya Ja's Lechon Belly           593   \n",
       "1  9nhzaAX6BdbgF4u2Zxi9RA                     Kusshi           486   \n",
       "2  OaI2Mh2fXj_RUq7hnGV_iQ                       Nada           447   \n",
       "3  UYffA9zyxFnu8E0T2hqoNw      Akira Ramen & Izakaya           708   \n",
       "4  ExMamAA8DqKpvwupNLdCgQ  KPOT Korean BBQ & Hot Pot           634   \n",
       "\n",
       "                             Categories  Rating Price  \\\n",
       "0                            [Filipino]     4.5    $$   \n",
       "1  [Sushi Bars, Japanese, Whiskey Bars]     4.5    $$   \n",
       "2         [Breakfast & Brunch, Mexican]     4.0    $$   \n",
       "3                      [Izakaya, Ramen]     4.0    $$   \n",
       "4             [Barbeque, Hot Pot, Bars]     4.0    $$   \n",
       "\n",
       "                                             Address state  Rating_1  \\\n",
       "0     ['5268-H Nicholson Ln', 'Rockville, MD 20895']    MD       5.0   \n",
       "1          ['11826 Trade St', 'Rockville, MD 20852']    MD       5.0   \n",
       "2  ['11886 Grand Park Ave', 'North Bethesda, MD 2...    MD       5.0   \n",
       "3  ['1800 Rockville Pike', 'Unit H1', 'Rockville,...    MD       5.0   \n",
       "4        ['5550 Randolph Rd', 'Rockville, MD 20852']    MD       5.0   \n",
       "\n",
       "                                            Review_1       Time_Created_1  \\\n",
       "0  Yup I went to heaven and back. First time here...  2020-12-19 09:33:31   \n",
       "1  I've been a customer of Kusshi since they open...  2020-11-16 17:16:22   \n",
       "2  Today was my second time visiting Nada (first ...  2021-01-16 13:40:35   \n",
       "3  I love this place. It was my first time here a...  2020-12-22 17:13:08   \n",
       "4  My second time at K Pot and they definitely st...  2020-09-27 15:42:22   \n",
       "\n",
       "   Rating_2                                           Review_2  \\\n",
       "0       5.0  BLUF: Oh my crispy Lechon! Months later and my...   \n",
       "1       5.0  Fast forward almost 2 years later, I am back a...   \n",
       "2       5.0  I have been in this place twice during the pan...   \n",
       "3       5.0  We ordered from Akira many times and they neve...   \n",
       "4       5.0  This is our family's favorite Korean BBQ and h...   \n",
       "\n",
       "        Time_Created_2  Rating_3  \\\n",
       "0  2020-11-01 09:33:12       5.0   \n",
       "1  2020-08-19 08:31:11       5.0   \n",
       "2  2020-12-02 06:26:31       5.0   \n",
       "3  2021-02-14 08:08:32       5.0   \n",
       "4  2020-08-29 19:18:45       5.0   \n",
       "\n",
       "                                            Review_3       Time_Created_3  \n",
       "0  So happy that I finally got the chance to go h...  2020-09-21 15:20:05  \n",
       "1  My new favorite sushi spot! It's a little tuck...  2020-07-23 22:57:51  \n",
       "2  I'm updating my review to 5 stars because I've...  2020-11-08 17:46:19  \n",
       "3  Akira is open for dine in and take out options...  2020-07-27 11:33:02  \n",
       "4  Welp, I think I've found a new favorite KBBQ s...  2020-10-10 10:13:34  "
      ]
     },
     "execution_count": 4,
     "metadata": {},
     "output_type": "execute_result"
    }
   ],
   "source": [
    "df.head()"
   ]
  },
  {
   "cell_type": "markdown",
   "metadata": {},
   "source": [
    "## Data Preparation\n",
    "\n",
    "In order get the initial results from the API call, longitude, latitude and radius parameters are used to cover the appropriate areas; category 'restuarants' and price '2,3,4' ($) parameters are used to ensure only sit down restaurants are in the data and exclude fast food and quick serve restaurants. A 'state' column from data in the 'display_address' column is created in order to drop non MD and VA restaurants that came through the API call. After running the id's through the Review API, any restaurants that has 0 reviews are dropped. \n",
    "\n",
    "The initial 'category' series have values in list type and up to 3 items in the list per record. In order to further evaluate the data by category, the categories in the list are split and placed in separate columns and a new dataframe is created to capture the attributes for each category."
   ]
  },
  {
   "cell_type": "code",
   "execution_count": 5,
   "metadata": {},
   "outputs": [
    {
     "data": {
      "text/plain": [
       "3"
      ]
     },
     "execution_count": 5,
     "metadata": {},
     "output_type": "execute_result"
    }
   ],
   "source": [
    "#check to see max length of category list\n",
    "df['Categories'].apply(lambda x: len(x)).max()"
   ]
  },
  {
   "cell_type": "code",
   "execution_count": 6,
   "metadata": {
    "scrolled": true
   },
   "outputs": [
    {
     "data": {
      "text/html": [
       "<div>\n",
       "<style scoped>\n",
       "    .dataframe tbody tr th:only-of-type {\n",
       "        vertical-align: middle;\n",
       "    }\n",
       "\n",
       "    .dataframe tbody tr th {\n",
       "        vertical-align: top;\n",
       "    }\n",
       "\n",
       "    .dataframe thead th {\n",
       "        text-align: right;\n",
       "    }\n",
       "</style>\n",
       "<table border=\"1\" class=\"dataframe\">\n",
       "  <thead>\n",
       "    <tr style=\"text-align: right;\">\n",
       "      <th></th>\n",
       "      <th>id</th>\n",
       "      <th>Name</th>\n",
       "      <th>Review_Count</th>\n",
       "      <th>Categories</th>\n",
       "      <th>Rating</th>\n",
       "      <th>Price</th>\n",
       "      <th>Address</th>\n",
       "      <th>state</th>\n",
       "      <th>Rating_1</th>\n",
       "      <th>Review_1</th>\n",
       "      <th>Time_Created_1</th>\n",
       "      <th>Rating_2</th>\n",
       "      <th>Review_2</th>\n",
       "      <th>Time_Created_2</th>\n",
       "      <th>Rating_3</th>\n",
       "      <th>Review_3</th>\n",
       "      <th>Time_Created_3</th>\n",
       "      <th>cat_1</th>\n",
       "      <th>cat_2</th>\n",
       "      <th>cat_3</th>\n",
       "    </tr>\n",
       "  </thead>\n",
       "  <tbody>\n",
       "    <tr>\n",
       "      <th>0</th>\n",
       "      <td>smTFfg1g_BjsUkorL_ZxLQ</td>\n",
       "      <td>Kuya Ja's Lechon Belly</td>\n",
       "      <td>593</td>\n",
       "      <td>[Filipino]</td>\n",
       "      <td>4.5</td>\n",
       "      <td>$$</td>\n",
       "      <td>['5268-H Nicholson Ln', 'Rockville, MD 20895']</td>\n",
       "      <td>MD</td>\n",
       "      <td>5.0</td>\n",
       "      <td>Yup I went to heaven and back. First time here...</td>\n",
       "      <td>2020-12-19 09:33:31</td>\n",
       "      <td>5.0</td>\n",
       "      <td>BLUF: Oh my crispy Lechon! Months later and my...</td>\n",
       "      <td>2020-11-01 09:33:12</td>\n",
       "      <td>5.0</td>\n",
       "      <td>So happy that I finally got the chance to go h...</td>\n",
       "      <td>2020-09-21 15:20:05</td>\n",
       "      <td>Filipino</td>\n",
       "      <td>None</td>\n",
       "      <td>None</td>\n",
       "    </tr>\n",
       "    <tr>\n",
       "      <th>1</th>\n",
       "      <td>9nhzaAX6BdbgF4u2Zxi9RA</td>\n",
       "      <td>Kusshi</td>\n",
       "      <td>486</td>\n",
       "      <td>[Sushi Bars, Japanese, Whiskey Bars]</td>\n",
       "      <td>4.5</td>\n",
       "      <td>$$</td>\n",
       "      <td>['11826 Trade St', 'Rockville, MD 20852']</td>\n",
       "      <td>MD</td>\n",
       "      <td>5.0</td>\n",
       "      <td>I've been a customer of Kusshi since they open...</td>\n",
       "      <td>2020-11-16 17:16:22</td>\n",
       "      <td>5.0</td>\n",
       "      <td>Fast forward almost 2 years later, I am back a...</td>\n",
       "      <td>2020-08-19 08:31:11</td>\n",
       "      <td>5.0</td>\n",
       "      <td>My new favorite sushi spot! It's a little tuck...</td>\n",
       "      <td>2020-07-23 22:57:51</td>\n",
       "      <td>Sushi Bars</td>\n",
       "      <td>Japanese</td>\n",
       "      <td>Whiskey Bars</td>\n",
       "    </tr>\n",
       "    <tr>\n",
       "      <th>2</th>\n",
       "      <td>OaI2Mh2fXj_RUq7hnGV_iQ</td>\n",
       "      <td>Nada</td>\n",
       "      <td>447</td>\n",
       "      <td>[Breakfast &amp; Brunch, Mexican]</td>\n",
       "      <td>4.0</td>\n",
       "      <td>$$</td>\n",
       "      <td>['11886 Grand Park Ave', 'North Bethesda, MD 2...</td>\n",
       "      <td>MD</td>\n",
       "      <td>5.0</td>\n",
       "      <td>Today was my second time visiting Nada (first ...</td>\n",
       "      <td>2021-01-16 13:40:35</td>\n",
       "      <td>5.0</td>\n",
       "      <td>I have been in this place twice during the pan...</td>\n",
       "      <td>2020-12-02 06:26:31</td>\n",
       "      <td>5.0</td>\n",
       "      <td>I'm updating my review to 5 stars because I've...</td>\n",
       "      <td>2020-11-08 17:46:19</td>\n",
       "      <td>Breakfast &amp; Brunch</td>\n",
       "      <td>Mexican</td>\n",
       "      <td>None</td>\n",
       "    </tr>\n",
       "    <tr>\n",
       "      <th>3</th>\n",
       "      <td>UYffA9zyxFnu8E0T2hqoNw</td>\n",
       "      <td>Akira Ramen &amp; Izakaya</td>\n",
       "      <td>708</td>\n",
       "      <td>[Izakaya, Ramen]</td>\n",
       "      <td>4.0</td>\n",
       "      <td>$$</td>\n",
       "      <td>['1800 Rockville Pike', 'Unit H1', 'Rockville,...</td>\n",
       "      <td>MD</td>\n",
       "      <td>5.0</td>\n",
       "      <td>I love this place. It was my first time here a...</td>\n",
       "      <td>2020-12-22 17:13:08</td>\n",
       "      <td>5.0</td>\n",
       "      <td>We ordered from Akira many times and they neve...</td>\n",
       "      <td>2021-02-14 08:08:32</td>\n",
       "      <td>5.0</td>\n",
       "      <td>Akira is open for dine in and take out options...</td>\n",
       "      <td>2020-07-27 11:33:02</td>\n",
       "      <td>Izakaya</td>\n",
       "      <td>Ramen</td>\n",
       "      <td>None</td>\n",
       "    </tr>\n",
       "    <tr>\n",
       "      <th>4</th>\n",
       "      <td>ExMamAA8DqKpvwupNLdCgQ</td>\n",
       "      <td>KPOT Korean BBQ &amp; Hot Pot</td>\n",
       "      <td>634</td>\n",
       "      <td>[Barbeque, Hot Pot, Bars]</td>\n",
       "      <td>4.0</td>\n",
       "      <td>$$</td>\n",
       "      <td>['5550 Randolph Rd', 'Rockville, MD 20852']</td>\n",
       "      <td>MD</td>\n",
       "      <td>5.0</td>\n",
       "      <td>My second time at K Pot and they definitely st...</td>\n",
       "      <td>2020-09-27 15:42:22</td>\n",
       "      <td>5.0</td>\n",
       "      <td>This is our family's favorite Korean BBQ and h...</td>\n",
       "      <td>2020-08-29 19:18:45</td>\n",
       "      <td>5.0</td>\n",
       "      <td>Welp, I think I've found a new favorite KBBQ s...</td>\n",
       "      <td>2020-10-10 10:13:34</td>\n",
       "      <td>Barbeque</td>\n",
       "      <td>Hot Pot</td>\n",
       "      <td>Bars</td>\n",
       "    </tr>\n",
       "  </tbody>\n",
       "</table>\n",
       "</div>"
      ],
      "text/plain": [
       "                       id                       Name  Review_Count  \\\n",
       "0  smTFfg1g_BjsUkorL_ZxLQ     Kuya Ja's Lechon Belly           593   \n",
       "1  9nhzaAX6BdbgF4u2Zxi9RA                     Kusshi           486   \n",
       "2  OaI2Mh2fXj_RUq7hnGV_iQ                       Nada           447   \n",
       "3  UYffA9zyxFnu8E0T2hqoNw      Akira Ramen & Izakaya           708   \n",
       "4  ExMamAA8DqKpvwupNLdCgQ  KPOT Korean BBQ & Hot Pot           634   \n",
       "\n",
       "                             Categories  Rating Price  \\\n",
       "0                            [Filipino]     4.5    $$   \n",
       "1  [Sushi Bars, Japanese, Whiskey Bars]     4.5    $$   \n",
       "2         [Breakfast & Brunch, Mexican]     4.0    $$   \n",
       "3                      [Izakaya, Ramen]     4.0    $$   \n",
       "4             [Barbeque, Hot Pot, Bars]     4.0    $$   \n",
       "\n",
       "                                             Address state  Rating_1  \\\n",
       "0     ['5268-H Nicholson Ln', 'Rockville, MD 20895']    MD       5.0   \n",
       "1          ['11826 Trade St', 'Rockville, MD 20852']    MD       5.0   \n",
       "2  ['11886 Grand Park Ave', 'North Bethesda, MD 2...    MD       5.0   \n",
       "3  ['1800 Rockville Pike', 'Unit H1', 'Rockville,...    MD       5.0   \n",
       "4        ['5550 Randolph Rd', 'Rockville, MD 20852']    MD       5.0   \n",
       "\n",
       "                                            Review_1       Time_Created_1  \\\n",
       "0  Yup I went to heaven and back. First time here...  2020-12-19 09:33:31   \n",
       "1  I've been a customer of Kusshi since they open...  2020-11-16 17:16:22   \n",
       "2  Today was my second time visiting Nada (first ...  2021-01-16 13:40:35   \n",
       "3  I love this place. It was my first time here a...  2020-12-22 17:13:08   \n",
       "4  My second time at K Pot and they definitely st...  2020-09-27 15:42:22   \n",
       "\n",
       "   Rating_2                                           Review_2  \\\n",
       "0       5.0  BLUF: Oh my crispy Lechon! Months later and my...   \n",
       "1       5.0  Fast forward almost 2 years later, I am back a...   \n",
       "2       5.0  I have been in this place twice during the pan...   \n",
       "3       5.0  We ordered from Akira many times and they neve...   \n",
       "4       5.0  This is our family's favorite Korean BBQ and h...   \n",
       "\n",
       "        Time_Created_2  Rating_3  \\\n",
       "0  2020-11-01 09:33:12       5.0   \n",
       "1  2020-08-19 08:31:11       5.0   \n",
       "2  2020-12-02 06:26:31       5.0   \n",
       "3  2021-02-14 08:08:32       5.0   \n",
       "4  2020-08-29 19:18:45       5.0   \n",
       "\n",
       "                                            Review_3       Time_Created_3  \\\n",
       "0  So happy that I finally got the chance to go h...  2020-09-21 15:20:05   \n",
       "1  My new favorite sushi spot! It's a little tuck...  2020-07-23 22:57:51   \n",
       "2  I'm updating my review to 5 stars because I've...  2020-11-08 17:46:19   \n",
       "3  Akira is open for dine in and take out options...  2020-07-27 11:33:02   \n",
       "4  Welp, I think I've found a new favorite KBBQ s...  2020-10-10 10:13:34   \n",
       "\n",
       "                cat_1     cat_2         cat_3  \n",
       "0            Filipino      None          None  \n",
       "1          Sushi Bars  Japanese  Whiskey Bars  \n",
       "2  Breakfast & Brunch   Mexican          None  \n",
       "3             Izakaya     Ramen          None  \n",
       "4            Barbeque   Hot Pot          Bars  "
      ]
     },
     "execution_count": 6,
     "metadata": {},
     "output_type": "execute_result"
    }
   ],
   "source": [
    "#create new columns for each category contained in the 'Categories' list\n",
    "df['cat_1'] = df['Categories'].apply(lambda x: list(x)[0])\n",
    "df['cat_2'] = df['Categories'].apply(lambda x: list(x)[1] if len(x) >1 else None) \n",
    "df['cat_3'] = df['Categories'].apply(lambda x: list(x)[2] if len(x) > 2 else None) \n",
    "df.head()"
   ]
  },
  {
   "cell_type": "code",
   "execution_count": 7,
   "metadata": {},
   "outputs": [],
   "source": [
    "#Create dataframe for each category \n",
    "cat_1_values = df.groupby('cat_1').agg({'id': 'count','Review_Count':'sum', 'Rating': 'sum'})\n",
    "cat_2_values = df.groupby('cat_2').agg({'id': 'count','Review_Count':'sum', 'Rating': 'sum'})\n",
    "cat_3_values = df.groupby('cat_3').agg({'id': 'count','Review_Count':'sum', 'Rating': 'sum'})"
   ]
  },
  {
   "cell_type": "code",
   "execution_count": 8,
   "metadata": {
    "scrolled": true
   },
   "outputs": [
    {
     "data": {
      "text/html": [
       "<div>\n",
       "<style scoped>\n",
       "    .dataframe tbody tr th:only-of-type {\n",
       "        vertical-align: middle;\n",
       "    }\n",
       "\n",
       "    .dataframe tbody tr th {\n",
       "        vertical-align: top;\n",
       "    }\n",
       "\n",
       "    .dataframe thead th {\n",
       "        text-align: right;\n",
       "    }\n",
       "</style>\n",
       "<table border=\"1\" class=\"dataframe\">\n",
       "  <thead>\n",
       "    <tr style=\"text-align: right;\">\n",
       "      <th></th>\n",
       "      <th>id</th>\n",
       "      <th>Review_Count</th>\n",
       "      <th>Rating</th>\n",
       "    </tr>\n",
       "    <tr>\n",
       "      <th>cat_1</th>\n",
       "      <th></th>\n",
       "      <th></th>\n",
       "      <th></th>\n",
       "    </tr>\n",
       "  </thead>\n",
       "  <tbody>\n",
       "    <tr>\n",
       "      <th>Afghan</th>\n",
       "      <td>6</td>\n",
       "      <td>1003</td>\n",
       "      <td>23.5</td>\n",
       "    </tr>\n",
       "    <tr>\n",
       "      <th>African</th>\n",
       "      <td>3</td>\n",
       "      <td>248</td>\n",
       "      <td>11.5</td>\n",
       "    </tr>\n",
       "    <tr>\n",
       "      <th>American (New)</th>\n",
       "      <td>53</td>\n",
       "      <td>16960</td>\n",
       "      <td>184.0</td>\n",
       "    </tr>\n",
       "    <tr>\n",
       "      <th>American (Traditional)</th>\n",
       "      <td>44</td>\n",
       "      <td>10640</td>\n",
       "      <td>156.0</td>\n",
       "    </tr>\n",
       "    <tr>\n",
       "      <th>Arcades</th>\n",
       "      <td>1</td>\n",
       "      <td>72</td>\n",
       "      <td>3.5</td>\n",
       "    </tr>\n",
       "  </tbody>\n",
       "</table>\n",
       "</div>"
      ],
      "text/plain": [
       "                        id  Review_Count  Rating\n",
       "cat_1                                           \n",
       "Afghan                   6          1003    23.5\n",
       "African                  3           248    11.5\n",
       "American (New)          53         16960   184.0\n",
       "American (Traditional)  44         10640   156.0\n",
       "Arcades                  1            72     3.5"
      ]
     },
     "execution_count": 8,
     "metadata": {},
     "output_type": "execute_result"
    }
   ],
   "source": [
    "cat_1_values.head()"
   ]
  },
  {
   "cell_type": "code",
   "execution_count": 9,
   "metadata": {},
   "outputs": [],
   "source": [
    "cat_1_2_values = cat_1_values.join(cat_2_values, how = 'outer', lsuffix = '_one', rsuffix = '_two')\n",
    "cat_info_df = cat_1_2_values.join(cat_3_values, how = 'outer')\n"
   ]
  },
  {
   "cell_type": "code",
   "execution_count": 10,
   "metadata": {},
   "outputs": [
    {
     "data": {
      "text/html": [
       "<div>\n",
       "<style scoped>\n",
       "    .dataframe tbody tr th:only-of-type {\n",
       "        vertical-align: middle;\n",
       "    }\n",
       "\n",
       "    .dataframe tbody tr th {\n",
       "        vertical-align: top;\n",
       "    }\n",
       "\n",
       "    .dataframe thead th {\n",
       "        text-align: right;\n",
       "    }\n",
       "</style>\n",
       "<table border=\"1\" class=\"dataframe\">\n",
       "  <thead>\n",
       "    <tr style=\"text-align: right;\">\n",
       "      <th></th>\n",
       "      <th>id_one</th>\n",
       "      <th>Review_Count_one</th>\n",
       "      <th>Rating_one</th>\n",
       "      <th>id_two</th>\n",
       "      <th>Review_Count_two</th>\n",
       "      <th>Rating_two</th>\n",
       "      <th>id</th>\n",
       "      <th>Review_Count</th>\n",
       "      <th>Rating</th>\n",
       "    </tr>\n",
       "  </thead>\n",
       "  <tbody>\n",
       "    <tr>\n",
       "      <th>Afghan</th>\n",
       "      <td>6.0</td>\n",
       "      <td>1003.0</td>\n",
       "      <td>23.5</td>\n",
       "      <td>2.0</td>\n",
       "      <td>79.0</td>\n",
       "      <td>8.5</td>\n",
       "      <td>NaN</td>\n",
       "      <td>NaN</td>\n",
       "      <td>NaN</td>\n",
       "    </tr>\n",
       "    <tr>\n",
       "      <th>African</th>\n",
       "      <td>3.0</td>\n",
       "      <td>248.0</td>\n",
       "      <td>11.5</td>\n",
       "      <td>1.0</td>\n",
       "      <td>119.0</td>\n",
       "      <td>4.0</td>\n",
       "      <td>NaN</td>\n",
       "      <td>NaN</td>\n",
       "      <td>NaN</td>\n",
       "    </tr>\n",
       "    <tr>\n",
       "      <th>American (New)</th>\n",
       "      <td>53.0</td>\n",
       "      <td>16960.0</td>\n",
       "      <td>184.0</td>\n",
       "      <td>24.0</td>\n",
       "      <td>7705.0</td>\n",
       "      <td>90.5</td>\n",
       "      <td>10.0</td>\n",
       "      <td>2508.0</td>\n",
       "      <td>37.0</td>\n",
       "    </tr>\n",
       "    <tr>\n",
       "      <th>American (Traditional)</th>\n",
       "      <td>44.0</td>\n",
       "      <td>10640.0</td>\n",
       "      <td>156.0</td>\n",
       "      <td>52.0</td>\n",
       "      <td>13204.0</td>\n",
       "      <td>180.5</td>\n",
       "      <td>30.0</td>\n",
       "      <td>7974.0</td>\n",
       "      <td>102.0</td>\n",
       "    </tr>\n",
       "    <tr>\n",
       "      <th>Arcades</th>\n",
       "      <td>1.0</td>\n",
       "      <td>72.0</td>\n",
       "      <td>3.5</td>\n",
       "      <td>1.0</td>\n",
       "      <td>35.0</td>\n",
       "      <td>3.0</td>\n",
       "      <td>2.0</td>\n",
       "      <td>327.0</td>\n",
       "      <td>5.0</td>\n",
       "    </tr>\n",
       "  </tbody>\n",
       "</table>\n",
       "</div>"
      ],
      "text/plain": [
       "                        id_one  Review_Count_one  Rating_one  id_two  \\\n",
       "Afghan                     6.0            1003.0        23.5     2.0   \n",
       "African                    3.0             248.0        11.5     1.0   \n",
       "American (New)            53.0           16960.0       184.0    24.0   \n",
       "American (Traditional)    44.0           10640.0       156.0    52.0   \n",
       "Arcades                    1.0              72.0         3.5     1.0   \n",
       "\n",
       "                        Review_Count_two  Rating_two    id  Review_Count  \\\n",
       "Afghan                              79.0         8.5   NaN           NaN   \n",
       "African                            119.0         4.0   NaN           NaN   \n",
       "American (New)                    7705.0        90.5  10.0        2508.0   \n",
       "American (Traditional)           13204.0       180.5  30.0        7974.0   \n",
       "Arcades                             35.0         3.0   2.0         327.0   \n",
       "\n",
       "                        Rating  \n",
       "Afghan                     NaN  \n",
       "African                    NaN  \n",
       "American (New)            37.0  \n",
       "American (Traditional)   102.0  \n",
       "Arcades                    5.0  "
      ]
     },
     "execution_count": 10,
     "metadata": {},
     "output_type": "execute_result"
    }
   ],
   "source": [
    "cat_info_df.head()"
   ]
  },
  {
   "cell_type": "code",
   "execution_count": 11,
   "metadata": {},
   "outputs": [],
   "source": [
    "#fill Nan values with 0\n",
    "cat_info_df.fillna(0, inplace = True)\n",
    "#fix some column names\n",
    "cat_info_df.rename(columns = {'Review_Count' : 'Review_Count_three', 'Rating' : 'Rating_three', 'id_one':'count_one', 'id_two':'count_two','id':'count_three'}, inplace = True)"
   ]
  },
  {
   "cell_type": "code",
   "execution_count": 12,
   "metadata": {
    "scrolled": true
   },
   "outputs": [
    {
     "data": {
      "text/html": [
       "<div>\n",
       "<style scoped>\n",
       "    .dataframe tbody tr th:only-of-type {\n",
       "        vertical-align: middle;\n",
       "    }\n",
       "\n",
       "    .dataframe tbody tr th {\n",
       "        vertical-align: top;\n",
       "    }\n",
       "\n",
       "    .dataframe thead th {\n",
       "        text-align: right;\n",
       "    }\n",
       "</style>\n",
       "<table border=\"1\" class=\"dataframe\">\n",
       "  <thead>\n",
       "    <tr style=\"text-align: right;\">\n",
       "      <th></th>\n",
       "      <th>count_one</th>\n",
       "      <th>Review_Count_one</th>\n",
       "      <th>Rating_one</th>\n",
       "      <th>count_two</th>\n",
       "      <th>Review_Count_two</th>\n",
       "      <th>Rating_two</th>\n",
       "      <th>count_three</th>\n",
       "      <th>Review_Count_three</th>\n",
       "      <th>Rating_three</th>\n",
       "    </tr>\n",
       "  </thead>\n",
       "  <tbody>\n",
       "    <tr>\n",
       "      <th>Afghan</th>\n",
       "      <td>6.0</td>\n",
       "      <td>1003.0</td>\n",
       "      <td>23.5</td>\n",
       "      <td>2.0</td>\n",
       "      <td>79.0</td>\n",
       "      <td>8.5</td>\n",
       "      <td>0.0</td>\n",
       "      <td>0.0</td>\n",
       "      <td>0.0</td>\n",
       "    </tr>\n",
       "    <tr>\n",
       "      <th>African</th>\n",
       "      <td>3.0</td>\n",
       "      <td>248.0</td>\n",
       "      <td>11.5</td>\n",
       "      <td>1.0</td>\n",
       "      <td>119.0</td>\n",
       "      <td>4.0</td>\n",
       "      <td>0.0</td>\n",
       "      <td>0.0</td>\n",
       "      <td>0.0</td>\n",
       "    </tr>\n",
       "    <tr>\n",
       "      <th>American (New)</th>\n",
       "      <td>53.0</td>\n",
       "      <td>16960.0</td>\n",
       "      <td>184.0</td>\n",
       "      <td>24.0</td>\n",
       "      <td>7705.0</td>\n",
       "      <td>90.5</td>\n",
       "      <td>10.0</td>\n",
       "      <td>2508.0</td>\n",
       "      <td>37.0</td>\n",
       "    </tr>\n",
       "    <tr>\n",
       "      <th>American (Traditional)</th>\n",
       "      <td>44.0</td>\n",
       "      <td>10640.0</td>\n",
       "      <td>156.0</td>\n",
       "      <td>52.0</td>\n",
       "      <td>13204.0</td>\n",
       "      <td>180.5</td>\n",
       "      <td>30.0</td>\n",
       "      <td>7974.0</td>\n",
       "      <td>102.0</td>\n",
       "    </tr>\n",
       "    <tr>\n",
       "      <th>Arcades</th>\n",
       "      <td>1.0</td>\n",
       "      <td>72.0</td>\n",
       "      <td>3.5</td>\n",
       "      <td>1.0</td>\n",
       "      <td>35.0</td>\n",
       "      <td>3.0</td>\n",
       "      <td>2.0</td>\n",
       "      <td>327.0</td>\n",
       "      <td>5.0</td>\n",
       "    </tr>\n",
       "  </tbody>\n",
       "</table>\n",
       "</div>"
      ],
      "text/plain": [
       "                        count_one  Review_Count_one  Rating_one  count_two  \\\n",
       "Afghan                        6.0            1003.0        23.5        2.0   \n",
       "African                       3.0             248.0        11.5        1.0   \n",
       "American (New)               53.0           16960.0       184.0       24.0   \n",
       "American (Traditional)       44.0           10640.0       156.0       52.0   \n",
       "Arcades                       1.0              72.0         3.5        1.0   \n",
       "\n",
       "                        Review_Count_two  Rating_two  count_three  \\\n",
       "Afghan                              79.0         8.5          0.0   \n",
       "African                            119.0         4.0          0.0   \n",
       "American (New)                    7705.0        90.5         10.0   \n",
       "American (Traditional)           13204.0       180.5         30.0   \n",
       "Arcades                             35.0         3.0          2.0   \n",
       "\n",
       "                        Review_Count_three  Rating_three  \n",
       "Afghan                                 0.0           0.0  \n",
       "African                                0.0           0.0  \n",
       "American (New)                      2508.0          37.0  \n",
       "American (Traditional)              7974.0         102.0  \n",
       "Arcades                              327.0           5.0  "
      ]
     },
     "execution_count": 12,
     "metadata": {},
     "output_type": "execute_result"
    }
   ],
   "source": [
    "cat_info_df.head()"
   ]
  },
  {
   "cell_type": "code",
   "execution_count": 13,
   "metadata": {},
   "outputs": [],
   "source": [
    "#create columns for total and average review_counts and ratings\n",
    "cat_info_df['total'] =  cat_info_df['count_one'] + cat_info_df['count_two'] + cat_info_df['count_three']\n",
    "cat_info_df['total_review_count'] = cat_info_df['Review_Count_one'] + cat_info_df['Review_Count_two'] + cat_info_df['Review_Count_three']\n",
    "cat_info_df['total_rating'] = cat_info_df['Rating_one'] + cat_info_df['Rating_two'] + cat_info_df['Rating_three']\n",
    "cat_info_df['avg_review_count'] = cat_info_df['total_review_count'] / cat_info_df['total']\n",
    "cat_info_df['avg_rating'] = cat_info_df['total_rating'] / cat_info_df['total']"
   ]
  },
  {
   "cell_type": "code",
   "execution_count": 14,
   "metadata": {},
   "outputs": [
    {
     "data": {
      "text/html": [
       "<div>\n",
       "<style scoped>\n",
       "    .dataframe tbody tr th:only-of-type {\n",
       "        vertical-align: middle;\n",
       "    }\n",
       "\n",
       "    .dataframe tbody tr th {\n",
       "        vertical-align: top;\n",
       "    }\n",
       "\n",
       "    .dataframe thead th {\n",
       "        text-align: right;\n",
       "    }\n",
       "</style>\n",
       "<table border=\"1\" class=\"dataframe\">\n",
       "  <thead>\n",
       "    <tr style=\"text-align: right;\">\n",
       "      <th></th>\n",
       "      <th>count_one</th>\n",
       "      <th>Review_Count_one</th>\n",
       "      <th>Rating_one</th>\n",
       "      <th>count_two</th>\n",
       "      <th>Review_Count_two</th>\n",
       "      <th>Rating_two</th>\n",
       "      <th>count_three</th>\n",
       "      <th>Review_Count_three</th>\n",
       "      <th>Rating_three</th>\n",
       "      <th>total</th>\n",
       "      <th>total_review_count</th>\n",
       "      <th>total_rating</th>\n",
       "      <th>avg_review_count</th>\n",
       "      <th>avg_rating</th>\n",
       "    </tr>\n",
       "  </thead>\n",
       "  <tbody>\n",
       "    <tr>\n",
       "      <th>Afghan</th>\n",
       "      <td>6.0</td>\n",
       "      <td>1003.0</td>\n",
       "      <td>23.5</td>\n",
       "      <td>2.0</td>\n",
       "      <td>79.0</td>\n",
       "      <td>8.5</td>\n",
       "      <td>0.0</td>\n",
       "      <td>0.0</td>\n",
       "      <td>0.0</td>\n",
       "      <td>8.0</td>\n",
       "      <td>1082.0</td>\n",
       "      <td>32.0</td>\n",
       "      <td>135.250000</td>\n",
       "      <td>4.000000</td>\n",
       "    </tr>\n",
       "    <tr>\n",
       "      <th>African</th>\n",
       "      <td>3.0</td>\n",
       "      <td>248.0</td>\n",
       "      <td>11.5</td>\n",
       "      <td>1.0</td>\n",
       "      <td>119.0</td>\n",
       "      <td>4.0</td>\n",
       "      <td>0.0</td>\n",
       "      <td>0.0</td>\n",
       "      <td>0.0</td>\n",
       "      <td>4.0</td>\n",
       "      <td>367.0</td>\n",
       "      <td>15.5</td>\n",
       "      <td>91.750000</td>\n",
       "      <td>3.875000</td>\n",
       "    </tr>\n",
       "    <tr>\n",
       "      <th>American (New)</th>\n",
       "      <td>53.0</td>\n",
       "      <td>16960.0</td>\n",
       "      <td>184.0</td>\n",
       "      <td>24.0</td>\n",
       "      <td>7705.0</td>\n",
       "      <td>90.5</td>\n",
       "      <td>10.0</td>\n",
       "      <td>2508.0</td>\n",
       "      <td>37.0</td>\n",
       "      <td>87.0</td>\n",
       "      <td>27173.0</td>\n",
       "      <td>311.5</td>\n",
       "      <td>312.333333</td>\n",
       "      <td>3.580460</td>\n",
       "    </tr>\n",
       "    <tr>\n",
       "      <th>American (Traditional)</th>\n",
       "      <td>44.0</td>\n",
       "      <td>10640.0</td>\n",
       "      <td>156.0</td>\n",
       "      <td>52.0</td>\n",
       "      <td>13204.0</td>\n",
       "      <td>180.5</td>\n",
       "      <td>30.0</td>\n",
       "      <td>7974.0</td>\n",
       "      <td>102.0</td>\n",
       "      <td>126.0</td>\n",
       "      <td>31818.0</td>\n",
       "      <td>438.5</td>\n",
       "      <td>252.523810</td>\n",
       "      <td>3.480159</td>\n",
       "    </tr>\n",
       "    <tr>\n",
       "      <th>Arcades</th>\n",
       "      <td>1.0</td>\n",
       "      <td>72.0</td>\n",
       "      <td>3.5</td>\n",
       "      <td>1.0</td>\n",
       "      <td>35.0</td>\n",
       "      <td>3.0</td>\n",
       "      <td>2.0</td>\n",
       "      <td>327.0</td>\n",
       "      <td>5.0</td>\n",
       "      <td>4.0</td>\n",
       "      <td>434.0</td>\n",
       "      <td>11.5</td>\n",
       "      <td>108.500000</td>\n",
       "      <td>2.875000</td>\n",
       "    </tr>\n",
       "  </tbody>\n",
       "</table>\n",
       "</div>"
      ],
      "text/plain": [
       "                        count_one  Review_Count_one  Rating_one  count_two  \\\n",
       "Afghan                        6.0            1003.0        23.5        2.0   \n",
       "African                       3.0             248.0        11.5        1.0   \n",
       "American (New)               53.0           16960.0       184.0       24.0   \n",
       "American (Traditional)       44.0           10640.0       156.0       52.0   \n",
       "Arcades                       1.0              72.0         3.5        1.0   \n",
       "\n",
       "                        Review_Count_two  Rating_two  count_three  \\\n",
       "Afghan                              79.0         8.5          0.0   \n",
       "African                            119.0         4.0          0.0   \n",
       "American (New)                    7705.0        90.5         10.0   \n",
       "American (Traditional)           13204.0       180.5         30.0   \n",
       "Arcades                             35.0         3.0          2.0   \n",
       "\n",
       "                        Review_Count_three  Rating_three  total  \\\n",
       "Afghan                                 0.0           0.0    8.0   \n",
       "African                                0.0           0.0    4.0   \n",
       "American (New)                      2508.0          37.0   87.0   \n",
       "American (Traditional)              7974.0         102.0  126.0   \n",
       "Arcades                              327.0           5.0    4.0   \n",
       "\n",
       "                        total_review_count  total_rating  avg_review_count  \\\n",
       "Afghan                              1082.0          32.0        135.250000   \n",
       "African                              367.0          15.5         91.750000   \n",
       "American (New)                     27173.0         311.5        312.333333   \n",
       "American (Traditional)             31818.0         438.5        252.523810   \n",
       "Arcades                              434.0          11.5        108.500000   \n",
       "\n",
       "                        avg_rating  \n",
       "Afghan                    4.000000  \n",
       "African                   3.875000  \n",
       "American (New)            3.580460  \n",
       "American (Traditional)    3.480159  \n",
       "Arcades                   2.875000  "
      ]
     },
     "execution_count": 14,
     "metadata": {},
     "output_type": "execute_result"
    }
   ],
   "source": [
    "cat_info_df.head()"
   ]
  },
  {
   "cell_type": "markdown",
   "metadata": {},
   "source": [
    "## Data Modeling\n",
    "Bar graphs are created in order to anazyle and model the data filtered from above. \n",
    "\n",
    "***\n",
    "To determine the most popular categories of restaurants returned, a bar chart is generated to compare the amount of restauarnts in the top 15 categories.\n"
   ]
  },
  {
   "cell_type": "code",
   "execution_count": 62,
   "metadata": {},
   "outputs": [
    {
     "data": {
      "image/png": "[encoded data removed]",
      "text/plain": [
       "<Figure size 1440x720 with 1 Axes>"
      ]
     },
     "metadata": {
      "needs_background": "light"
     },
     "output_type": "display_data"
    }
   ],
   "source": [
    "#Create bar graph of Top 15 Categories\n",
    "fig,ax = plt.subplots(figsize = (20,10))\n",
    "x = cat_info_df.sort_values('total', ascending = False).reset_index()['index'][0:15]\n",
    "y = cat_info_df.sort_values('total', ascending = False)['total'][0:15]\n",
    "ax.bar(x,y, color = 'orange')\n",
    "plt.xticks(rotation='vertical')\n",
    "ax.set_title('Top 20 Categories', fontsize = 15)\n",
    "ax.set_xlabel('Categories', fontsize = 15)\n",
    "ax.set_ylabel('Total Restaurants', fontsize = 15)\n",
    "ax.tick_params(axis = 'both', which = 'major', labelsize = 15)"
   ]
  },
  {
   "cell_type": "markdown",
   "metadata": {},
   "source": [
    "From this chart the conclusion to avoid restaurants within these categories is made due large amounts of competition. \n",
    "\n",
    "***\n",
    "\n",
    "This chart promptes further analysis to investigate if the most popular restaurants, according to review counts, fell into these same categories. To analyze this question, a bar chart is formed comparing the top 15 categories with the highest review counts."
   ]
  },
  {
   "cell_type": "code",
   "execution_count": 63,
   "metadata": {},
   "outputs": [
    {
     "data": {
      "image/png": "[encoded data removed]",
      "text/plain": [
       "<Figure size 1440x720 with 1 Axes>"
      ]
     },
     "metadata": {
      "needs_background": "light"
     },
     "output_type": "display_data"
    }
   ],
   "source": [
    "#Create a bar graph looking at top 15 categories by average review count\n",
    "fig, ax = plt.subplots(figsize=(20, 10))\n",
    "x = cat_info_df[cat_info_df['total'] > 5].sort_values('avg_review_count', ascending = False).reset_index()['index'][0:15]\n",
    "y = cat_info_df[cat_info_df['total'] > 5].sort_values('avg_review_count', ascending = False)['avg_review_count'][0:15]\n",
    "ax.bar(x, y, color = 'b')\n",
    "plt.xticks(rotation='vertical')\n",
    "ax.set_title('Top 20 Average Review Counts', fontsize = 15)\n",
    "ax.set_xlabel('Categories', fontsize = 15)\n",
    "ax.set_ylabel('Average Review Count', fontsize = 15)\n",
    "ax.tick_params(axis = 'both', which = 'major', labelsize = 15)"
   ]
  },
  {
   "cell_type": "markdown",
   "metadata": {},
   "source": [
    "Average review count is determined to indicate whether existing restaurants within a cateogry are popular. One of these categories of restaurants would be a good choice due to their popularity. \n",
    "\n",
    "***\n",
    "\n",
    "Another bar chart comparing the most popular categires by average review count with  average ratings is designed to explore an unmet satisfaction within the most popular category of restaurants.  "
   ]
  },
  {
   "cell_type": "code",
   "execution_count": 64,
   "metadata": {},
   "outputs": [
    {
     "data": {
      "image/png": "[encoded data removed]",
      "text/plain": [
       "<Figure size 1440x720 with 2 Axes>"
      ]
     },
     "metadata": {
      "needs_background": "light"
     },
     "output_type": "display_data"
    }
   ],
   "source": [
    "x1 = cat_info_df[cat_info_df['total'] > 5].sort_values('avg_review_count', ascending = False).reset_index()['index'][0:15]\n",
    "y1 = cat_info_df[cat_info_df['total'] > 5].sort_values('avg_review_count', ascending = False)['avg_review_count'][0:15]\n",
    "y2 = cat_info_df[cat_info_df['total'] > 5].sort_values('avg_review_count', ascending = False)['avg_rating'][0:15]\n",
    "plt.figure(figsize=(20,10))\n",
    "x = np.arange(15)\n",
    "ax1 = plt.subplot(1,1,1)\n",
    "w = 0.3\n",
    "plt.xticks(x + w /2, x1, rotation='vertical')\n",
    "arc =ax1.bar(x, y1, width=w, color='b', align='center')\n",
    "plt.ylabel('Average Review Count', fontsize = 15)\n",
    "plt.xlabel('Category', fontsize = 15)\n",
    "ax2 = ax1.twinx()\n",
    "ar =ax2.bar(x + w, y2, width=w,color='g',align='center')\n",
    "plt.ylabel('Average Rating', fontsize = 15)\n",
    "ax2.set_ylim([2.5,5])\n",
    "al = plt.axhline(y=df['Rating'].mean(),linewidth=1, color='k', label = 'All Restaurants Avg Rating')\n",
    "plt.legend([arc, ar, al],['Avg Review Count', 'Avg Rating', 'All Restaurants Avg Rating'])\n",
    "plt.title('Avg Review Count and Avg Rating of Top 15 Categories by Avg Review Count', fontsize = 15)\n",
    "plt.show()"
   ]
  },
  {
   "cell_type": "markdown",
   "metadata": {},
   "source": [
    "From the above chart, Steakhouses and Cantonese restaurants have the lowest average rating. This may show an unmet satisfaction for restaruants in those categories. \n",
    "\n",
    "***\n",
    "\n",
    "Finally, two dataframes are used to conclude whether to open a Steakhouse or Cantonese restaurant as well as which location to open the new restaurant.\n",
    "\n"
   ]
  },
  {
   "cell_type": "markdown",
   "metadata": {},
   "source": [
    "**Steakhouses:**"
   ]
  },
  {
   "cell_type": "code",
   "execution_count": 18,
   "metadata": {
    "scrolled": true
   },
   "outputs": [
    {
     "data": {
      "text/html": [
       "<div>\n",
       "<style scoped>\n",
       "    .dataframe tbody tr th:only-of-type {\n",
       "        vertical-align: middle;\n",
       "    }\n",
       "\n",
       "    .dataframe tbody tr th {\n",
       "        vertical-align: top;\n",
       "    }\n",
       "\n",
       "    .dataframe thead th {\n",
       "        text-align: right;\n",
       "    }\n",
       "</style>\n",
       "<table border=\"1\" class=\"dataframe\">\n",
       "  <thead>\n",
       "    <tr style=\"text-align: right;\">\n",
       "      <th></th>\n",
       "      <th>Count</th>\n",
       "      <th>Rating</th>\n",
       "      <th>Review_Count</th>\n",
       "    </tr>\n",
       "    <tr>\n",
       "      <th>state</th>\n",
       "      <th></th>\n",
       "      <th></th>\n",
       "      <th></th>\n",
       "    </tr>\n",
       "  </thead>\n",
       "  <tbody>\n",
       "    <tr>\n",
       "      <th>MD</th>\n",
       "      <td>12</td>\n",
       "      <td>3.541667</td>\n",
       "      <td>438.000000</td>\n",
       "    </tr>\n",
       "    <tr>\n",
       "      <th>VA</th>\n",
       "      <td>9</td>\n",
       "      <td>3.277778</td>\n",
       "      <td>230.666667</td>\n",
       "    </tr>\n",
       "  </tbody>\n",
       "</table>\n",
       "</div>"
      ],
      "text/plain": [
       "       Count    Rating  Review_Count\n",
       "state                               \n",
       "MD        12  3.541667    438.000000\n",
       "VA         9  3.277778    230.666667"
      ]
     },
     "execution_count": 18,
     "metadata": {},
     "output_type": "execute_result"
    }
   ],
   "source": [
    "#Data frame comparing Steakhouses between MD and VA\n",
    "df[(df['cat_2'] == 'Steakhouses') | (df['cat_3'] == 'Steakhouses') | ((df['cat_1'] == 'Steakhouses'))].groupby('state').agg({'Name':'count','Rating':'mean','Review_Count':'mean'}).rename(columns={'Name':'Count'})"
   ]
  },
  {
   "cell_type": "markdown",
   "metadata": {},
   "source": [
    "**Cantonese Restaurants:**"
   ]
  },
  {
   "cell_type": "code",
   "execution_count": 72,
   "metadata": {},
   "outputs": [
    {
     "data": {
      "text/html": [
       "<div>\n",
       "<style scoped>\n",
       "    .dataframe tbody tr th:only-of-type {\n",
       "        vertical-align: middle;\n",
       "    }\n",
       "\n",
       "    .dataframe tbody tr th {\n",
       "        vertical-align: top;\n",
       "    }\n",
       "\n",
       "    .dataframe thead th {\n",
       "        text-align: right;\n",
       "    }\n",
       "</style>\n",
       "<table border=\"1\" class=\"dataframe\">\n",
       "  <thead>\n",
       "    <tr style=\"text-align: right;\">\n",
       "      <th></th>\n",
       "      <th>Count</th>\n",
       "      <th>Rating</th>\n",
       "      <th>Review_Count</th>\n",
       "    </tr>\n",
       "    <tr>\n",
       "      <th>state</th>\n",
       "      <th></th>\n",
       "      <th></th>\n",
       "      <th></th>\n",
       "    </tr>\n",
       "  </thead>\n",
       "  <tbody>\n",
       "    <tr>\n",
       "      <th>MD</th>\n",
       "      <td>5</td>\n",
       "      <td>3.3</td>\n",
       "      <td>256.0</td>\n",
       "    </tr>\n",
       "    <tr>\n",
       "      <th>VA</th>\n",
       "      <td>2</td>\n",
       "      <td>3.5</td>\n",
       "      <td>466.5</td>\n",
       "    </tr>\n",
       "  </tbody>\n",
       "</table>\n",
       "</div>"
      ],
      "text/plain": [
       "       Count  Rating  Review_Count\n",
       "state                             \n",
       "MD         5     3.3         256.0\n",
       "VA         2     3.5         466.5"
      ]
     },
     "execution_count": 72,
     "metadata": {},
     "output_type": "execute_result"
    }
   ],
   "source": [
    "#Data frame comparing Cantonese Restaurants between MD and VA\n",
    "df[(df['cat_2'] == 'Cantonese') | (df['cat_3'] == 'Cantonese')| (df['cat_1'] == 'Cantonese')].groupby('state').agg({'Name':'count','Rating':'mean','Review_Count':'mean'}).rename(columns={'Name':'Count'})"
   ]
  },
  {
   "cell_type": "code",
   "execution_count": 29,
   "metadata": {
    "scrolled": true
   },
   "outputs": [
    {
     "name": "stdout",
     "output_type": "stream",
     "text": [
      "The average rating for all the restaurants in the dataframe is 3.638495575221239.\n",
      "The average rating for all the restaurants in the dataframe is 227.53893805309735.\n"
     ]
    }
   ],
   "source": [
    "print(f\"The average rating for all the restaurants in the dataframe is {df['Rating'].mean()}.\")\n",
    "print(f\"The average rating for all the restaurants in the dataframe is {df['Review_Count'].mean()}.\")"
   ]
  },
  {
   "cell_type": "markdown",
   "metadata": {},
   "source": [
    "Let's also grab the median household income and population census data from 2019  for the areas we are looking at to see if that will nudge us further in any direction. Our restaurant radius includes Arlington and Fairfax counties in Virginia and Montgomery County in Maryland."
   ]
  },
  {
   "cell_type": "code",
   "execution_count": 74,
   "metadata": {},
   "outputs": [
    {
     "data": {
      "text/html": [
       "<div>\n",
       "<style scoped>\n",
       "    .dataframe tbody tr th:only-of-type {\n",
       "        vertical-align: middle;\n",
       "    }\n",
       "\n",
       "    .dataframe tbody tr th {\n",
       "        vertical-align: top;\n",
       "    }\n",
       "\n",
       "    .dataframe thead th {\n",
       "        text-align: right;\n",
       "    }\n",
       "</style>\n",
       "<table border=\"1\" class=\"dataframe\">\n",
       "  <thead>\n",
       "    <tr style=\"text-align: right;\">\n",
       "      <th></th>\n",
       "      <th>Median Household Income</th>\n",
       "      <th>Age 16+ Population</th>\n",
       "    </tr>\n",
       "  </thead>\n",
       "  <tbody>\n",
       "    <tr>\n",
       "      <th>Arlington County, Virginia: Summary level: 050, state:51&gt; county:013</th>\n",
       "      <td>120071</td>\n",
       "      <td>195728</td>\n",
       "    </tr>\n",
       "    <tr>\n",
       "      <th>Fairfax County, Virginia: Summary level: 050, state:51&gt; county:059</th>\n",
       "      <td>124831</td>\n",
       "      <td>905295</td>\n",
       "    </tr>\n",
       "    <tr>\n",
       "      <th>Montgomery County, Maryland: Summary level: 050, state:24&gt; county:031</th>\n",
       "      <td>108820</td>\n",
       "      <td>826787</td>\n",
       "    </tr>\n",
       "  </tbody>\n",
       "</table>\n",
       "</div>"
      ],
      "text/plain": [
       "                                                    Median Household Income  \\\n",
       "Arlington County, Virginia: Summary level: 050,...                   120071   \n",
       "Fairfax County, Virginia: Summary level: 050, s...                   124831   \n",
       "Montgomery County, Maryland: Summary level: 050...                   108820   \n",
       "\n",
       "                                                    Age 16+ Population  \n",
       "Arlington County, Virginia: Summary level: 050,...              195728  \n",
       "Fairfax County, Virginia: Summary level: 050, s...              905295  \n",
       "Montgomery County, Maryland: Summary level: 050...              826787  "
      ]
     },
     "execution_count": 74,
     "metadata": {},
     "output_type": "execute_result"
    }
   ],
   "source": [
    "import censusdata\n",
    "arlington_income_pop = censusdata.download('acs5', 2019, censusdata.censusgeo((('state', '51'), ('county', '013'))),\n",
    "                                   ['DP03_0062E', 'DP03_0001E'],\n",
    "                                   tabletype='profile')\n",
    "fairfax_income_pop = censusdata.download('acs5', 2019, censusdata.censusgeo((('state', '51'), ('county', '059'))),\n",
    "                                   ['DP03_0062E', 'DP03_0001E'],\n",
    "                                   tabletype='profile')\n",
    "moco_income_pop = censusdata.download('acs5', 2019, censusdata.censusgeo((('state', '24'), ('county', '031'))),\n",
    "                                   ['DP03_0062E', 'DP03_0001E'],\n",
    "                                   tabletype='profile') \n",
    "\n",
    "county_data = pd.concat([arlington_income_pop, fairfax_income_pop, moco_income_pop])\n",
    "county_data.rename(columns = {'DP03_0062E': 'Median Household Income', 'DP03_0001E': 'Age 16+ Population'}, inplace = True)\n",
    "county_data"
   ]
  },
  {
   "cell_type": "markdown",
   "metadata": {},
   "source": [
    "***\n",
    "\n",
    "## Evaluation\n",
    "\n"
   ]
  },
  {
   "cell_type": "markdown",
   "metadata": {},
   "source": [
    "![example](Images/Dim_Sum_Pic.JPG)"
   ]
  },
  {
   "cell_type": "markdown",
   "metadata": {},
   "source": [
    "Observations between the two dataframes  point towards potential for Steakhouses in MD and Cantonese restaurant in VA due to the high average review counts showing popularity and low average rating showing lower public opinion of existing restaurants.\n",
    "\n",
    "\n",
    "\n",
    "The haverage review count is greater than the average review count of the entire sample of restaurants further supporting that the existing restaurants in these areas have greater than average popularity. These restaurants also have an average rating lower than the average rating of the entire sample further supporting an unmet statisfaction for these restaurants in these areas.\n",
    "\n",
    "To decide between those options we looked at the total amount of restaurants with the same categories in each area. There are more Steakhouses in MD compared to Cantonese restaurants in VA and thus more competition. With just 2 Cantonese restaurants in VA with very high average review counts, it seems this is a category that is ripe for a new entrant in the market. Furthermore, based on the census data, the areas in Virginia had higher median household income, pointing toward more potential for families to spend that income dining out.\n",
    "\n",
    "This leads to the conclusion to open a Cantonese reataurant in VA. \n",
    "\n",
    "***"
   ]
  },
  {
   "cell_type": "markdown",
   "metadata": {},
   "source": [
    "To see what other categorizations are commingled with Cantonese:"
   ]
  },
  {
   "cell_type": "code",
   "execution_count": 65,
   "metadata": {},
   "outputs": [
    {
     "data": {
      "text/plain": [
       "Dim Sum    7\n",
       "Name: cat_1, dtype: int64"
      ]
     },
     "execution_count": 65,
     "metadata": {},
     "output_type": "execute_result"
    }
   ],
   "source": [
    "df[(df['cat_2'] == 'Cantonese') | (df['cat_3'] == 'Cantonese') | (df['cat_1'] == 'Cantonese')]['cat_1'].value_counts()"
   ]
  },
  {
   "cell_type": "code",
   "execution_count": 67,
   "metadata": {},
   "outputs": [
    {
     "data": {
      "text/plain": [
       "Cantonese    6\n",
       "Buffets      1\n",
       "Name: cat_2, dtype: int64"
      ]
     },
     "execution_count": 67,
     "metadata": {},
     "output_type": "execute_result"
    }
   ],
   "source": [
    "df[(df['cat_2'] == 'Cantonese') | (df['cat_3'] == 'Cantonese') | (df['cat_1'] == 'Cantonese')]['cat_2'].value_counts()"
   ]
  },
  {
   "cell_type": "code",
   "execution_count": 68,
   "metadata": {},
   "outputs": [
    {
     "data": {
      "text/plain": [
       "Seafood      2\n",
       "Cantonese    1\n",
       "Name: cat_3, dtype: int64"
      ]
     },
     "execution_count": 68,
     "metadata": {},
     "output_type": "execute_result"
    }
   ],
   "source": [
    "df[(df['cat_2'] == 'Cantonese') | (df['cat_3'] == 'Cantonese') | (df['cat_1'] == 'Cantonese')]['cat_3'].value_counts()"
   ]
  },
  {
   "cell_type": "markdown",
   "metadata": {},
   "source": [
    "Every Cantonese restaurant is also Dim Sum restaruant. Are there Dim Sum restaurants that are not Cantonese?"
   ]
  },
  {
   "cell_type": "code",
   "execution_count": 71,
   "metadata": {
    "scrolled": true
   },
   "outputs": [
    {
     "data": {
      "text/html": [
       "<div>\n",
       "<style scoped>\n",
       "    .dataframe tbody tr th:only-of-type {\n",
       "        vertical-align: middle;\n",
       "    }\n",
       "\n",
       "    .dataframe tbody tr th {\n",
       "        vertical-align: top;\n",
       "    }\n",
       "\n",
       "    .dataframe thead th {\n",
       "        text-align: right;\n",
       "    }\n",
       "</style>\n",
       "<table border=\"1\" class=\"dataframe\">\n",
       "  <thead>\n",
       "    <tr style=\"text-align: right;\">\n",
       "      <th></th>\n",
       "      <th>id</th>\n",
       "      <th>Name</th>\n",
       "      <th>Review_Count</th>\n",
       "      <th>Categories</th>\n",
       "      <th>Rating</th>\n",
       "      <th>Price</th>\n",
       "      <th>Address</th>\n",
       "      <th>state</th>\n",
       "      <th>Rating_1</th>\n",
       "      <th>Review_1</th>\n",
       "      <th>Time_Created_1</th>\n",
       "      <th>Rating_2</th>\n",
       "      <th>Review_2</th>\n",
       "      <th>Time_Created_2</th>\n",
       "      <th>Rating_3</th>\n",
       "      <th>Review_3</th>\n",
       "      <th>Time_Created_3</th>\n",
       "      <th>cat_1</th>\n",
       "      <th>cat_2</th>\n",
       "      <th>cat_3</th>\n",
       "    </tr>\n",
       "  </thead>\n",
       "  <tbody>\n",
       "    <tr>\n",
       "      <th>171</th>\n",
       "      <td>6FCoN_eglT6MP3N7ahL7NA</td>\n",
       "      <td>East Dumpling House</td>\n",
       "      <td>423</td>\n",
       "      <td>[Dim Sum, Asian Fusion, Karaoke]</td>\n",
       "      <td>3.5</td>\n",
       "      <td>$$</td>\n",
       "      <td>['12 N Washington St', 'Ste 14G', 'Rockville, ...</td>\n",
       "      <td>MD</td>\n",
       "      <td>4.0</td>\n",
       "      <td>Ordered takeout from here twice during the pan...</td>\n",
       "      <td>2020-12-20 02:21:45</td>\n",
       "      <td>4.0</td>\n",
       "      <td>Ordered amazing takeout from here! \\n\\nThe dum...</td>\n",
       "      <td>2020-08-26 13:33:59</td>\n",
       "      <td>5.0</td>\n",
       "      <td>Hot DANG. Just ordered the house dumplings and...</td>\n",
       "      <td>2020-05-22 18:05:25</td>\n",
       "      <td>Dim Sum</td>\n",
       "      <td>Asian Fusion</td>\n",
       "      <td>Karaoke</td>\n",
       "    </tr>\n",
       "    <tr>\n",
       "      <th>879</th>\n",
       "      <td>rVlo0etXlf9bSUSnHzhmWg</td>\n",
       "      <td>Saigon 1975 Vietnamese Restaurant</td>\n",
       "      <td>104</td>\n",
       "      <td>[Vietnamese, Dim Sum, Noodles]</td>\n",
       "      <td>4.0</td>\n",
       "      <td>$$</td>\n",
       "      <td>['7395-A Lee Hwy', 'Falls Church, VA 22042']</td>\n",
       "      <td>VA</td>\n",
       "      <td>5.0</td>\n",
       "      <td>Covid has really put Saigon 1975 into a bind. ...</td>\n",
       "      <td>2020-12-23 17:23:32</td>\n",
       "      <td>5.0</td>\n",
       "      <td>I hadn't planned on dim sum yesterday, but whe...</td>\n",
       "      <td>2020-07-05 05:54:09</td>\n",
       "      <td>5.0</td>\n",
       "      <td>We just had carry out Pho for lunch and it was...</td>\n",
       "      <td>2020-06-22 09:55:15</td>\n",
       "      <td>Vietnamese</td>\n",
       "      <td>Dim Sum</td>\n",
       "      <td>Noodles</td>\n",
       "    </tr>\n",
       "  </tbody>\n",
       "</table>\n",
       "</div>"
      ],
      "text/plain": [
       "                         id                               Name  Review_Count  \\\n",
       "171  6FCoN_eglT6MP3N7ahL7NA                East Dumpling House           423   \n",
       "879  rVlo0etXlf9bSUSnHzhmWg  Saigon 1975 Vietnamese Restaurant           104   \n",
       "\n",
       "                           Categories  Rating Price  \\\n",
       "171  [Dim Sum, Asian Fusion, Karaoke]     3.5    $$   \n",
       "879    [Vietnamese, Dim Sum, Noodles]     4.0    $$   \n",
       "\n",
       "                                               Address state  Rating_1  \\\n",
       "171  ['12 N Washington St', 'Ste 14G', 'Rockville, ...    MD       4.0   \n",
       "879       ['7395-A Lee Hwy', 'Falls Church, VA 22042']    VA       5.0   \n",
       "\n",
       "                                              Review_1       Time_Created_1  \\\n",
       "171  Ordered takeout from here twice during the pan...  2020-12-20 02:21:45   \n",
       "879  Covid has really put Saigon 1975 into a bind. ...  2020-12-23 17:23:32   \n",
       "\n",
       "     Rating_2                                           Review_2  \\\n",
       "171       4.0  Ordered amazing takeout from here! \\n\\nThe dum...   \n",
       "879       5.0  I hadn't planned on dim sum yesterday, but whe...   \n",
       "\n",
       "          Time_Created_2  Rating_3  \\\n",
       "171  2020-08-26 13:33:59       5.0   \n",
       "879  2020-07-05 05:54:09       5.0   \n",
       "\n",
       "                                              Review_3       Time_Created_3  \\\n",
       "171  Hot DANG. Just ordered the house dumplings and...  2020-05-22 18:05:25   \n",
       "879  We just had carry out Pho for lunch and it was...  2020-06-22 09:55:15   \n",
       "\n",
       "          cat_1         cat_2    cat_3  \n",
       "171     Dim Sum  Asian Fusion  Karaoke  \n",
       "879  Vietnamese       Dim Sum  Noodles  "
      ]
     },
     "execution_count": 71,
     "metadata": {},
     "output_type": "execute_result"
    }
   ],
   "source": [
    "df[((df['cat_2'] == 'Dim Sum') | (df['cat_3'] == 'Dim Sum') | (df['cat_1'] == 'Dim Sum')) \n",
    "   & ((df['cat_2'] != 'Cantonese') & (df['cat_3'] != 'Cantonese') & (df['cat_1'] != 'Cantonese'))]"
   ]
  },
  {
   "cell_type": "markdown",
   "metadata": {},
   "source": [
    "The 1 additional Dim Sum restaruant in VA is Vietnamese style. This does not detract from our conclusion about Cantonese style Dim Sum restaurants. "
   ]
  },
  {
   "cell_type": "markdown",
   "metadata": {},
   "source": [
    "Annecdotally, reviews from the Dim Sum Cantonese restaurants in VA emphasize the results concluded above by showing a desire for more and better Dim Sum Cantonese restaurants in the area. "
   ]
  },
  {
   "cell_type": "code",
   "execution_count": 41,
   "metadata": {},
   "outputs": [],
   "source": [
    "#Code to show full review text\n",
    "from IPython.display import display\n",
    "pd.set_option('display.max_colwidth', None)"
   ]
  },
  {
   "cell_type": "code",
   "execution_count": 52,
   "metadata": {},
   "outputs": [
    {
     "data": {
      "text/plain": [
       "' We had been looking forward to visiting a Dim Sum place in DC and to our disappointment they had been shut down for a couple of years. That left us with...'"
      ]
     },
     "execution_count": 52,
     "metadata": {},
     "output_type": "execute_result"
    }
   ],
   "source": [
    "df[df['id'] == 'qYt89GRyEBBEP29J4wF2Zw']['Review_1'].to_string(index = False)"
   ]
  },
  {
   "cell_type": "code",
   "execution_count": 53,
   "metadata": {},
   "outputs": [
    {
     "data": {
      "text/plain": [
       "' 5 stars for Peking duck, 3 stars for the other dishes. They don\\'t call it \"other dish\" house, after all!\\\\n\\\\nThey were open for thanksgiving 2020, and of the...'"
      ]
     },
     "execution_count": 53,
     "metadata": {},
     "output_type": "execute_result"
    }
   ],
   "source": [
    "df[df['id'] == 'duer52a0aMheoSXUNZmnTQ']['Review_1'].to_string(index = False)"
   ]
  },
  {
   "cell_type": "markdown",
   "metadata": {},
   "source": [
    "## Conclusions\n",
    "\n",
    "While the data supports opening a Dim Sum Cantonese restaurant in VA there are some things to further consider. \n",
    "\n",
    " - Yelp data can only shed light on popularity and restaurant sentiment. It does not provide insight on potential profitability.\n",
    " - The length of how long a business has been open could bias the average review counts.\n",
    " - The current pandemic has changed dining trends which may not be reflected in the historical data from Yelp.\n",
    "\n",
    "About Cantonese cuisine:\n",
    "https://www.seriouseats.com/2014/10/introduction-what-is-cantonese-chinese-cuisine.html"
   ]
  },
  {
   "cell_type": "code",
   "execution_count": null,
   "metadata": {},
   "outputs": [],
   "source": []
  }
 ],
 "metadata": {
  "kernelspec": {
   "display_name": "Python 3",
   "language": "python",
   "name": "python3"
  },
  "language_info": {
   "codemirror_mode": {
    "name": "ipython",
    "version": 3
   },
   "file_extension": ".py",
   "mimetype": "text/x-python",
   "name": "python",
   "nbconvert_exporter": "python",
   "pygments_lexer": "ipython3",
   "version": "3.8.3"
  }
 },
 "nbformat": 4,
 "nbformat_minor": 4
}
