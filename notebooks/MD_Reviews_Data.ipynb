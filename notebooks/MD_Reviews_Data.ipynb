{
 "cells": [
  {
   "cell_type": "code",
   "execution_count": 36,
   "metadata": {},
   "outputs": [],
   "source": [
    "import requests\n",
    "import json"
   ]
  },
  {
   "cell_type": "code",
   "execution_count": 37,
   "metadata": {},
   "outputs": [],
   "source": [
    "import pandas as pd\n",
    "md_biz = pd.read_csv('md_biz_reviews')"
   ]
  },
  {
   "cell_type": "code",
   "execution_count": 38,
   "metadata": {},
   "outputs": [
    {
     "name": "stdout",
     "output_type": "stream",
     "text": [
      "['/Users/jaclynhenn/Desktop/Project_Phase_1', '/Users/jaclynhenn/opt/anaconda3/envs/learn-env/lib/python38.zip', '/Users/jaclynhenn/opt/anaconda3/envs/learn-env/lib/python3.8', '/Users/jaclynhenn/opt/anaconda3/envs/learn-env/lib/python3.8/lib-dynload', '', '/Users/jaclynhenn/opt/anaconda3/envs/learn-env/lib/python3.8/site-packages', '/Users/jaclynhenn/opt/anaconda3/envs/learn-env/lib/python3.8/site-packages/IPython/extensions', '/Users/jaclynhenn/.ipython']\n"
     ]
    }
   ],
   "source": [
    "import sys\n",
    "print(sys.path)"
   ]
  },
  {
   "cell_type": "code",
   "execution_count": 39,
   "metadata": {},
   "outputs": [],
   "source": [
    "#client_id = ____\n",
    "api_key = #your api key"
   ]
  },
  {
   "cell_type": "code",
   "execution_count": 40,
   "metadata": {},
   "outputs": [],
   "source": [
    "headers = {\n",
    "        'Authorization': 'Bearer {}'.format(api_key),\n",
    "    }\n",
    "\n"
   ]
  },
  {
   "cell_type": "code",
   "execution_count": 28,
   "metadata": {},
   "outputs": [],
   "source": [
    "response = requests.get(url, headers=headers)\n",
    "#N:request package \n",
    "#N:created headers above\n",
    "#N:create web addres gives us all"
   ]
  },
  {
   "cell_type": "code",
   "execution_count": 20,
   "metadata": {},
   "outputs": [],
   "source": [
    "def yelp_call(url_param):\n",
    "    response = requests.get(url, headers=headers, params=url_params)\n",
    "    return response.json()['businesses']"
   ]
  },
  {
   "cell_type": "code",
   "execution_count": null,
   "metadata": {},
   "outputs": [],
   "source": [
    "def parse_data(list_of_data):\n",
    "    # create a container to hold our parsed data\n",
    "    reviews = []\n",
    "    # loop through our business and \n",
    "    for review in list_of_data:\n",
    "    # parse each individual business into a tuple\n",
    "        review_tuple = (review['rating'], \n",
    "                        review['text'])\n",
    "    # add each individual business tuple to our data container\n",
    "        reviews.append(review_tuple)\n",
    "    # return the container with all of the parsed results\n",
    "    return reviews"
   ]
  },
  {
   "cell_type": "code",
   "execution_count": 29,
   "metadata": {},
   "outputs": [
    {
     "ename": "NameError",
     "evalue": "name 'biz_info' is not defined",
     "output_type": "error",
     "traceback": [
      "\u001b[0;31m---------------------------------------------------------------------------\u001b[0m",
      "\u001b[0;31mNameError\u001b[0m                                 Traceback (most recent call last)",
      "\u001b[0;32m<ipython-input-29-9c165b9ba426>\u001b[0m in \u001b[0;36m<module>\u001b[0;34m\u001b[0m\n\u001b[0;32m----> 1\u001b[0;31m \u001b[0;32mfor\u001b[0m \u001b[0mbusiness\u001b[0m \u001b[0;32min\u001b[0m \u001b[0mbiz_info\u001b[0m\u001b[0;34m[\u001b[0m\u001b[0;34m'id'\u001b[0m\u001b[0;34m]\u001b[0m\u001b[0;34m:\u001b[0m\u001b[0;34m\u001b[0m\u001b[0;34m\u001b[0m\u001b[0m\n\u001b[0m\u001b[1;32m      2\u001b[0m     \u001b[0murl\u001b[0m \u001b[0;34m=\u001b[0m  \u001b[0;34m'https://api.yelp.com/v3/businesses/{}/reviews'\u001b[0m\u001b[0;34m.\u001b[0m\u001b[0mformat\u001b[0m\u001b[0;34m(\u001b[0m\u001b[0mbusiness\u001b[0m\u001b[0;34m)\u001b[0m\u001b[0;34m\u001b[0m\u001b[0;34m\u001b[0m\u001b[0m\n\u001b[1;32m      3\u001b[0m     \u001b[0mresponse\u001b[0m \u001b[0;34m=\u001b[0m \u001b[0mrequests\u001b[0m\u001b[0;34m.\u001b[0m\u001b[0mget\u001b[0m\u001b[0;34m(\u001b[0m\u001b[0murl\u001b[0m\u001b[0;34m,\u001b[0m \u001b[0mheaders\u001b[0m\u001b[0;34m=\u001b[0m\u001b[0mheaders\u001b[0m\u001b[0;34m)\u001b[0m\u001b[0;34m\u001b[0m\u001b[0;34m\u001b[0m\u001b[0m\n\u001b[1;32m      4\u001b[0m     \u001b[0mdata\u001b[0m \u001b[0;34m=\u001b[0m \u001b[0mresponse\u001b[0m\u001b[0;34m.\u001b[0m\u001b[0mjson\u001b[0m\u001b[0;34m(\u001b[0m\u001b[0;34m)\u001b[0m\u001b[0;34m\u001b[0m\u001b[0;34m\u001b[0m\u001b[0m\n\u001b[1;32m      5\u001b[0m     \u001b[0mparse_data\u001b[0m\u001b[0;34m(\u001b[0m\u001b[0mdata\u001b[0m\u001b[0;34m[\u001b[0m\u001b[0;34m'reviews'\u001b[0m\u001b[0;34m]\u001b[0m\u001b[0;34m)\u001b[0m\u001b[0;34m\u001b[0m\u001b[0;34m\u001b[0m\u001b[0m\n",
      "\u001b[0;31mNameError\u001b[0m: name 'biz_info' is not defined"
     ]
    }
   ],
   "source": [
    "for business in biz_info['id']: \n",
    "    url =  'https://api.yelp.com/v3/businesses/{}/reviews'.format(business)\n",
    "    response = requests.get(url, headers=headers)\n",
    "    data = response.json()\n",
    "    parse_data(data['reviews'])"
   ]
  },
  {
   "cell_type": "code",
   "execution_count": 47,
   "metadata": {},
   "outputs": [],
   "source": [
    "total_data = []\n",
    "for business in md_biz['id']:\n",
    "    url = 'https://api.yelp.com/v3/businesses/{}/reviews'.format(business)\n",
    "    response = requests.get(url, headers=headers)\n",
    "    data = response.json()\n",
    "    try:\n",
    "        rev0 = data['reviews'][0]['text']\n",
    "        rat0 = data['reviews'][0]['rating']\n",
    "        time0 = data['reviews'][0]['time_created']\n",
    "        rev1 = data['reviews'][1]['text']\n",
    "        rat1 = data['reviews'][1]['rating']\n",
    "        time1 = data['reviews'][1]['time_created']\n",
    "        rev2 = data['reviews'][2]['text']\n",
    "        rat2 = data['reviews'][2]['rating']\n",
    "        time2 = data['reviews'][2]['time_created']\n",
    "    except:\n",
    "        rev0 = None\n",
    "        rat0 = None\n",
    "        time0 = None\n",
    "        rev1 = None\n",
    "        rat1 = None\n",
    "        time1 = None\n",
    "        rev2 = None\n",
    "        rat2 = None\n",
    "        time2 = None\n",
    "    biz_tuple =(business,\n",
    "               rat0,\n",
    "               rev0,\n",
    "               time0,\n",
    "               rat1,\n",
    "               rev1,\n",
    "               time1,\n",
    "               rat2,\n",
    "               rev2,\n",
    "               time2)\n",
    "    total_data.append(biz_tuple)"
   ]
  },
  {
   "cell_type": "code",
   "execution_count": 48,
   "metadata": {},
   "outputs": [
    {
     "data": {
      "text/plain": [
       "572"
      ]
     },
     "execution_count": 48,
     "metadata": {},
     "output_type": "execute_result"
    }
   ],
   "source": [
    "len(total_data)"
   ]
  },
  {
   "cell_type": "code",
   "execution_count": 49,
   "metadata": {},
   "outputs": [],
   "source": [
    "Rev_df = pd.DataFrame(total_data, columns = ['id','Rating_1', 'Review_1', 'Time_Created_1', 'Rating_2', 'Review_2', 'Time_Created_2', 'Rating_3', 'Review_3', 'Time_Created_3'])"
   ]
  },
  {
   "cell_type": "code",
   "execution_count": 50,
   "metadata": {},
   "outputs": [
    {
     "data": {
      "text/html": [
       "<div>\n",
       "<style scoped>\n",
       "    .dataframe tbody tr th:only-of-type {\n",
       "        vertical-align: middle;\n",
       "    }\n",
       "\n",
       "    .dataframe tbody tr th {\n",
       "        vertical-align: top;\n",
       "    }\n",
       "\n",
       "    .dataframe thead th {\n",
       "        text-align: right;\n",
       "    }\n",
       "</style>\n",
       "<table border=\"1\" class=\"dataframe\">\n",
       "  <thead>\n",
       "    <tr style=\"text-align: right;\">\n",
       "      <th></th>\n",
       "      <th>id</th>\n",
       "      <th>Rating_1</th>\n",
       "      <th>Review_1</th>\n",
       "      <th>Time_Created_1</th>\n",
       "      <th>Rating_2</th>\n",
       "      <th>Review_2</th>\n",
       "      <th>Time_Created_2</th>\n",
       "      <th>Rating_3</th>\n",
       "      <th>Review_3</th>\n",
       "      <th>Time_Created_3</th>\n",
       "    </tr>\n",
       "  </thead>\n",
       "  <tbody>\n",
       "    <tr>\n",
       "      <th>0</th>\n",
       "      <td>smTFfg1g_BjsUkorL_ZxLQ</td>\n",
       "      <td>5.0</td>\n",
       "      <td>Yup I went to heaven and back. First time here...</td>\n",
       "      <td>2020-12-19 09:33:31</td>\n",
       "      <td>5.0</td>\n",
       "      <td>BLUF: Oh my crispy Lechon! Months later and my...</td>\n",
       "      <td>2020-11-01 09:33:12</td>\n",
       "      <td>5.0</td>\n",
       "      <td>So happy that I finally got the chance to go h...</td>\n",
       "      <td>2020-09-21 15:20:05</td>\n",
       "    </tr>\n",
       "    <tr>\n",
       "      <th>1</th>\n",
       "      <td>9nhzaAX6BdbgF4u2Zxi9RA</td>\n",
       "      <td>5.0</td>\n",
       "      <td>I've been a customer of Kusshi since they open...</td>\n",
       "      <td>2020-11-16 17:16:22</td>\n",
       "      <td>5.0</td>\n",
       "      <td>Fast forward almost 2 years later, I am back a...</td>\n",
       "      <td>2020-08-19 08:31:11</td>\n",
       "      <td>5.0</td>\n",
       "      <td>My new favorite sushi spot! It's a little tuck...</td>\n",
       "      <td>2020-07-23 22:57:51</td>\n",
       "    </tr>\n",
       "    <tr>\n",
       "      <th>2</th>\n",
       "      <td>OaI2Mh2fXj_RUq7hnGV_iQ</td>\n",
       "      <td>5.0</td>\n",
       "      <td>Today was my second time visiting Nada (first ...</td>\n",
       "      <td>2021-01-16 13:40:35</td>\n",
       "      <td>5.0</td>\n",
       "      <td>I have been in this place twice during the pan...</td>\n",
       "      <td>2020-12-02 06:26:31</td>\n",
       "      <td>5.0</td>\n",
       "      <td>I'm updating my review to 5 stars because I've...</td>\n",
       "      <td>2020-11-08 17:46:19</td>\n",
       "    </tr>\n",
       "    <tr>\n",
       "      <th>3</th>\n",
       "      <td>UYffA9zyxFnu8E0T2hqoNw</td>\n",
       "      <td>5.0</td>\n",
       "      <td>I love this place. It was my first time here a...</td>\n",
       "      <td>2020-12-22 17:13:08</td>\n",
       "      <td>5.0</td>\n",
       "      <td>We ordered from Akira many times and they neve...</td>\n",
       "      <td>2021-02-14 08:08:32</td>\n",
       "      <td>5.0</td>\n",
       "      <td>Akira is open for dine in and take out options...</td>\n",
       "      <td>2020-07-27 11:33:02</td>\n",
       "    </tr>\n",
       "    <tr>\n",
       "      <th>4</th>\n",
       "      <td>ExMamAA8DqKpvwupNLdCgQ</td>\n",
       "      <td>5.0</td>\n",
       "      <td>My second time at K Pot and they definitely st...</td>\n",
       "      <td>2020-09-27 15:42:22</td>\n",
       "      <td>5.0</td>\n",
       "      <td>This is our family's favorite Korean BBQ and h...</td>\n",
       "      <td>2020-08-29 19:18:45</td>\n",
       "      <td>5.0</td>\n",
       "      <td>Welp, I think I've found a new favorite KBBQ s...</td>\n",
       "      <td>2020-10-10 10:13:34</td>\n",
       "    </tr>\n",
       "    <tr>\n",
       "      <th>...</th>\n",
       "      <td>...</td>\n",
       "      <td>...</td>\n",
       "      <td>...</td>\n",
       "      <td>...</td>\n",
       "      <td>...</td>\n",
       "      <td>...</td>\n",
       "      <td>...</td>\n",
       "      <td>...</td>\n",
       "      <td>...</td>\n",
       "      <td>...</td>\n",
       "    </tr>\n",
       "    <tr>\n",
       "      <th>567</th>\n",
       "      <td>5UtO2yZ7DhK5pZ3KxZv7Wg</td>\n",
       "      <td>4.0</td>\n",
       "      <td>This is hard to find it's in Glen Echo Park. I...</td>\n",
       "      <td>2019-11-14 18:51:16</td>\n",
       "      <td>3.0</td>\n",
       "      <td>Things I love: Moose tracks ice cream, nice ba...</td>\n",
       "      <td>2019-06-04 09:50:31</td>\n",
       "      <td>3.0</td>\n",
       "      <td>It's great that Praline provides some of its b...</td>\n",
       "      <td>2018-10-21 16:34:47</td>\n",
       "    </tr>\n",
       "    <tr>\n",
       "      <th>568</th>\n",
       "      <td>l0prEdAqMFvQXRm1dHmIEA</td>\n",
       "      <td>NaN</td>\n",
       "      <td>None</td>\n",
       "      <td>None</td>\n",
       "      <td>NaN</td>\n",
       "      <td>None</td>\n",
       "      <td>None</td>\n",
       "      <td>NaN</td>\n",
       "      <td>None</td>\n",
       "      <td>None</td>\n",
       "    </tr>\n",
       "    <tr>\n",
       "      <th>569</th>\n",
       "      <td>jtN1g6nvsQIubYFDt8OYaw</td>\n",
       "      <td>NaN</td>\n",
       "      <td>None</td>\n",
       "      <td>None</td>\n",
       "      <td>NaN</td>\n",
       "      <td>None</td>\n",
       "      <td>None</td>\n",
       "      <td>NaN</td>\n",
       "      <td>None</td>\n",
       "      <td>None</td>\n",
       "    </tr>\n",
       "    <tr>\n",
       "      <th>570</th>\n",
       "      <td>joY2tjvlNqrdPfk0UTW4IQ</td>\n",
       "      <td>1.0</td>\n",
       "      <td>Do not order the Mondongo soup is horrible and...</td>\n",
       "      <td>2014-07-02 06:29:55</td>\n",
       "      <td>1.0</td>\n",
       "      <td>It's degrading I don't understand in the middl...</td>\n",
       "      <td>2016-01-14 21:16:05</td>\n",
       "      <td>4.0</td>\n",
       "      <td>Yum! Seriously. Excellent papusas (I got them ...</td>\n",
       "      <td>2012-10-08 13:57:54</td>\n",
       "    </tr>\n",
       "    <tr>\n",
       "      <th>571</th>\n",
       "      <td>AZQn_LIn650udstIkfsi8g</td>\n",
       "      <td>1.0</td>\n",
       "      <td>Fiancée asked for the wine list, but after she...</td>\n",
       "      <td>2009-04-30 03:45:47</td>\n",
       "      <td>3.0</td>\n",
       "      <td>Re-visited Capital Bleu after 6 months and hav...</td>\n",
       "      <td>2009-07-14 09:47:17</td>\n",
       "      <td>1.0</td>\n",
       "      <td>This place is just completely ridiculous! The ...</td>\n",
       "      <td>2012-02-12 14:51:09</td>\n",
       "    </tr>\n",
       "  </tbody>\n",
       "</table>\n",
       "<p>572 rows × 10 columns</p>\n",
       "</div>"
      ],
      "text/plain": [
       "                         id  Rating_1  \\\n",
       "0    smTFfg1g_BjsUkorL_ZxLQ       5.0   \n",
       "1    9nhzaAX6BdbgF4u2Zxi9RA       5.0   \n",
       "2    OaI2Mh2fXj_RUq7hnGV_iQ       5.0   \n",
       "3    UYffA9zyxFnu8E0T2hqoNw       5.0   \n",
       "4    ExMamAA8DqKpvwupNLdCgQ       5.0   \n",
       "..                      ...       ...   \n",
       "567  5UtO2yZ7DhK5pZ3KxZv7Wg       4.0   \n",
       "568  l0prEdAqMFvQXRm1dHmIEA       NaN   \n",
       "569  jtN1g6nvsQIubYFDt8OYaw       NaN   \n",
       "570  joY2tjvlNqrdPfk0UTW4IQ       1.0   \n",
       "571  AZQn_LIn650udstIkfsi8g       1.0   \n",
       "\n",
       "                                              Review_1       Time_Created_1  \\\n",
       "0    Yup I went to heaven and back. First time here...  2020-12-19 09:33:31   \n",
       "1    I've been a customer of Kusshi since they open...  2020-11-16 17:16:22   \n",
       "2    Today was my second time visiting Nada (first ...  2021-01-16 13:40:35   \n",
       "3    I love this place. It was my first time here a...  2020-12-22 17:13:08   \n",
       "4    My second time at K Pot and they definitely st...  2020-09-27 15:42:22   \n",
       "..                                                 ...                  ...   \n",
       "567  This is hard to find it's in Glen Echo Park. I...  2019-11-14 18:51:16   \n",
       "568                                               None                 None   \n",
       "569                                               None                 None   \n",
       "570  Do not order the Mondongo soup is horrible and...  2014-07-02 06:29:55   \n",
       "571  Fiancée asked for the wine list, but after she...  2009-04-30 03:45:47   \n",
       "\n",
       "     Rating_2                                           Review_2  \\\n",
       "0         5.0  BLUF: Oh my crispy Lechon! Months later and my...   \n",
       "1         5.0  Fast forward almost 2 years later, I am back a...   \n",
       "2         5.0  I have been in this place twice during the pan...   \n",
       "3         5.0  We ordered from Akira many times and they neve...   \n",
       "4         5.0  This is our family's favorite Korean BBQ and h...   \n",
       "..        ...                                                ...   \n",
       "567       3.0  Things I love: Moose tracks ice cream, nice ba...   \n",
       "568       NaN                                               None   \n",
       "569       NaN                                               None   \n",
       "570       1.0  It's degrading I don't understand in the middl...   \n",
       "571       3.0  Re-visited Capital Bleu after 6 months and hav...   \n",
       "\n",
       "          Time_Created_2  Rating_3  \\\n",
       "0    2020-11-01 09:33:12       5.0   \n",
       "1    2020-08-19 08:31:11       5.0   \n",
       "2    2020-12-02 06:26:31       5.0   \n",
       "3    2021-02-14 08:08:32       5.0   \n",
       "4    2020-08-29 19:18:45       5.0   \n",
       "..                   ...       ...   \n",
       "567  2019-06-04 09:50:31       3.0   \n",
       "568                 None       NaN   \n",
       "569                 None       NaN   \n",
       "570  2016-01-14 21:16:05       4.0   \n",
       "571  2009-07-14 09:47:17       1.0   \n",
       "\n",
       "                                              Review_3       Time_Created_3  \n",
       "0    So happy that I finally got the chance to go h...  2020-09-21 15:20:05  \n",
       "1    My new favorite sushi spot! It's a little tuck...  2020-07-23 22:57:51  \n",
       "2    I'm updating my review to 5 stars because I've...  2020-11-08 17:46:19  \n",
       "3    Akira is open for dine in and take out options...  2020-07-27 11:33:02  \n",
       "4    Welp, I think I've found a new favorite KBBQ s...  2020-10-10 10:13:34  \n",
       "..                                                 ...                  ...  \n",
       "567  It's great that Praline provides some of its b...  2018-10-21 16:34:47  \n",
       "568                                               None                 None  \n",
       "569                                               None                 None  \n",
       "570  Yum! Seriously. Excellent papusas (I got them ...  2012-10-08 13:57:54  \n",
       "571  This place is just completely ridiculous! The ...  2012-02-12 14:51:09  \n",
       "\n",
       "[572 rows x 10 columns]"
      ]
     },
     "execution_count": 50,
     "metadata": {},
     "output_type": "execute_result"
    }
   ],
   "source": [
    "Rev_df"
   ]
  },
  {
   "cell_type": "code",
   "execution_count": 53,
   "metadata": {},
   "outputs": [],
   "source": [
    "Rev_df.to_csv('md_reviews')"
   ]
  },
  {
   "cell_type": "code",
   "execution_count": null,
   "metadata": {},
   "outputs": [],
   "source": []
  }
 ],
 "metadata": {
  "kernelspec": {
   "display_name": "Python 3",
   "language": "python",
   "name": "python3"
  },
  "language_info": {
   "codemirror_mode": {
    "name": "ipython",
    "version": 3
   },
   "file_extension": ".py",
   "mimetype": "text/x-python",
   "name": "python",
   "nbconvert_exporter": "python",
   "pygments_lexer": "ipython3",
   "version": "3.8.3"
  }
 },
 "nbformat": 4,
 "nbformat_minor": 4
}
